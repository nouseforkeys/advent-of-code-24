{
 "cells": [
  {
   "cell_type": "markdown",
   "metadata": {},
   "source": [
    "# Day 19\n",
    "\n",
    "## part 1\n",
    "\n",
    "- existing towel patterns are shown\n",
    "- and towel designs are listed below\n",
    "- can use as many instances of a pattern to make designs\n",
    "- find out how many designs are possible"
   ]
  },
  {
   "cell_type": "code",
   "execution_count": 9,
   "metadata": {},
   "outputs": [],
   "source": [
    "from dataclasses import dataclass\n",
    "import logging\n",
    "import re\n",
    "import random\n",
    "\n",
    "from tqdm import tqdm\n",
    "\n",
    "from advent_of_code_utils.advent_of_code_utils import (\n",
    "    parse_from_file, ParseConfig as PC, markdown\n",
    ")\n",
    "\n",
    "log = logging.getLogger('day 19')\n",
    "logging.basicConfig(level=logging.INFO)"
   ]
  },
  {
   "cell_type": "code",
   "execution_count": 2,
   "metadata": {},
   "outputs": [
    {
     "name": "stderr",
     "output_type": "stream",
     "text": [
      "INFO:advent_of_code_utils.py:2 items loaded from \"day_19.txt\"\n"
     ]
    }
   ],
   "source": [
    "parser = PC('\\n\\n', [\n",
    "    PC(', ', str),\n",
    "    PC('\\n', str)\n",
    "])\n",
    "patterns, designs = parse_from_file('day_19.txt', parser)"
   ]
  },
  {
   "cell_type": "code",
   "execution_count": 3,
   "metadata": {},
   "outputs": [
    {
     "name": "stderr",
     "output_type": "stream",
     "text": [
      "INFO:day 19:Towels with length 1: ['b', 'w', 'u', 'r']\n"
     ]
    }
   ],
   "source": [
    "log.info(f'Towels with length 1: {[t for t in patterns if len(t) == 1]}')"
   ]
  },
  {
   "cell_type": "markdown",
   "metadata": {},
   "source": [
    "ok great that means its just about finding how to deal with the `g`s as everything else is trivial"
   ]
  },
  {
   "cell_type": "code",
   "execution_count": 4,
   "metadata": {},
   "outputs": [
    {
     "name": "stderr",
     "output_type": "stream",
     "text": [
      "INFO:day 19:Found 266 towels with \"g\"\n"
     ]
    }
   ],
   "source": [
    "g_patterns = [t for t in patterns if 'g' in t]\n",
    "log.info(f'Found {len(g_patterns)} towels with \"g\"')\n",
    "test_patterns = g_patterns + [t for t in patterns if len(t) == 1]"
   ]
  },
  {
   "cell_type": "code",
   "execution_count": 5,
   "metadata": {},
   "outputs": [],
   "source": [
    "# lets try this tomorrow\n",
    "# go through the patterns from biggest to smallest\n",
    "# for each one try and fit it into the design\n",
    "# if it fits blank out where it fits and continue\n",
    "# if it fits more than once try all combinations (except for length 1)\n",
    "# if the whole design gets blanked out return the solution\n",
    "# else if all strings are tried, blacklist what was tried\n",
    "# if all len > 1 strings are blacklisted then this desigin won't work"
   ]
  },
  {
   "cell_type": "code",
   "execution_count": 6,
   "metadata": {},
   "outputs": [
    {
     "name": "stderr",
     "output_type": "stream",
     "text": [
      "WARNING:day 19:267 solvable found\n"
     ]
    }
   ],
   "source": [
    "def test_design(\n",
    "    design: str, patterns: list[str]\n",
    ") -> dict[str: list[int]] | None:\n",
    "    \"\"\"returns the combination of patterns that creates the design, or None\"\"\"\n",
    "    log.debug(f'{design=}')\n",
    "    working = ''.join(design)\n",
    "    solution = {}\n",
    "    # try patterns > len 1\n",
    "    log.debug(f'testing patterns len > 1')\n",
    "    subset = [p for p in patterns if len(p) > 1]\n",
    "    for pattern in subset:\n",
    "        # log.debug(f'testing {pattern=}')\n",
    "        if pattern in working:\n",
    "            solution.update({pattern: []})\n",
    "        for match in re.finditer(pattern, working):\n",
    "            log.debug(f'{match=}')\n",
    "            temp = ''\n",
    "            start, end = match.span()\n",
    "            for index, char in enumerate(working):\n",
    "                if start <= index < end:\n",
    "                    temp += char.upper()\n",
    "                else:\n",
    "                    temp += char\n",
    "            solution[pattern].append(start)\n",
    "            working = temp\n",
    "            log.debug(f'{working=}')\n",
    "            log.debug(f'{solution=}')\n",
    "    # try patterns == len 1\n",
    "    log.debug(f'testing patterns len == 1')\n",
    "    subset = [p for p in patterns if len(p) == 1]\n",
    "    for pattern in subset:\n",
    "        # log.debug(f'testing {pattern=}')\n",
    "        if pattern in working:\n",
    "            solution.update({pattern: []})\n",
    "        for match in re.finditer(pattern, working):\n",
    "            log.debug(f'{match=}')\n",
    "            temp = ''\n",
    "            start, end = match.span()\n",
    "            for index, char in enumerate(working):\n",
    "                if start <= index < end:\n",
    "                    temp += char.upper()\n",
    "                else:\n",
    "                    temp += char\n",
    "            solution[pattern].append(start)\n",
    "            working = temp\n",
    "            log.debug(f'{working=}')\n",
    "            log.debug(f'{solution=}')\n",
    "    # test the outcome\n",
    "    if working == working.upper():\n",
    "        log.info(f'solution found {design=}')\n",
    "        return solution\n",
    "    log.info(f'No solution for {design=}')\n",
    "    return None\n",
    "\n",
    "# lets try using all the patterns\n",
    "log.setLevel(logging.WARNING)\n",
    "solutions = {}\n",
    "for design in designs:\n",
    "    solutions.update({design: test_design(design, test_patterns)})\n",
    "solvable = len([s for s in solutions.values() if s is not None])\n",
    "log.warning(f'{solvable} solvable found')"
   ]
  },
  {
   "cell_type": "code",
   "execution_count": 7,
   "metadata": {},
   "outputs": [
    {
     "name": "stderr",
     "output_type": "stream",
     "text": [
      "testing unsolvables:   0%|          | 0/133 [00:00<?, ?it/s]"
     ]
    },
    {
     "name": "stderr",
     "output_type": "stream",
     "text": [
      "testing unsolvables: 100%|██████████| 133/133 [00:34<00:00,  3.84it/s]\n",
      "WARNING:day 19:321 solvable found\n"
     ]
    }
   ],
   "source": [
    "# lets try removing one pattern and resolving\n",
    "log.setLevel(logging.WARNING)\n",
    "for design in tqdm([d for d, s in solutions.items() if s is None], desc='testing unsolvables'):\n",
    "    for pattern in test_patterns:\n",
    "        log.info(f'removing {pattern=}')\n",
    "        temp_patterns = [p for p in test_patterns if p != pattern]\n",
    "        solution = test_design(design, temp_patterns)\n",
    "        if solution is not None:\n",
    "            break\n",
    "    if solution is not None:\n",
    "        log.info('solution found!')\n",
    "        solutions[design] = solution\n",
    "solvable = len([s for s in solutions.values() if s is not None])\n",
    "log.warning(f'{solvable} solvable found')"
   ]
  },
  {
   "cell_type": "code",
   "execution_count": null,
   "metadata": {},
   "outputs": [
    {
     "name": "stderr",
     "output_type": "stream",
     "text": [
      "testing unsolvables: 100%|██████████| 58/58 [00:06<00:00,  8.34it/s]\n",
      "WARNING:day 19:342 solvable found\n"
     ]
    }
   ],
   "source": [
    "# lets try removing randomising the pattern order\n",
    "log.setLevel(logging.WARNING)\n",
    "for design in tqdm([d for d, s in solutions.items() if s is None], desc='testing unsolvables'):\n",
    "    # we'll run it a bunch of times just to see\n",
    "    for _ in range(100):\n",
    "        temp_patterns = [p for p in test_patterns]\n",
    "        random.shuffle(temp_patterns)\n",
    "        solution = test_design(design, temp_patterns)\n",
    "        if solution is not None:\n",
    "            break\n",
    "    if solution is not None:\n",
    "        log.info('solution found!')\n",
    "        solutions[design] = solution\n",
    "solvable = len([s for s in solutions.values() if s is not None])\n",
    "log.warning(f'{solvable} solvable found')"
   ]
  },
  {
   "cell_type": "code",
   "execution_count": 14,
   "metadata": {},
   "outputs": [
    {
     "data": {
      "text/markdown": [
       "the number of solvable designs: 342"
      ],
      "text/plain": [
       "<IPython.core.display.Markdown object>"
      ]
     },
     "metadata": {},
     "output_type": "display_data"
    }
   ],
   "source": [
    "solvable = len([s for s in solutions.values() if s is not None])\n",
    "markdown(f'the number of solvable designs: {solvable}')"
   ]
  }
 ],
 "metadata": {
  "kernelspec": {
   "display_name": ".venv",
   "language": "python",
   "name": "python3"
  },
  "language_info": {
   "codemirror_mode": {
    "name": "ipython",
    "version": 3
   },
   "file_extension": ".py",
   "mimetype": "text/x-python",
   "name": "python",
   "nbconvert_exporter": "python",
   "pygments_lexer": "ipython3",
   "version": "3.12.0"
  }
 },
 "nbformat": 4,
 "nbformat_minor": 2
}

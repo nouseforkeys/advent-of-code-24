{
 "cells": [
  {
   "cell_type": "markdown",
   "metadata": {},
   "source": [
    "# Day 9\n",
    "\n",
    "## part 1\n",
    "\n",
    "- digits alternate representing:\n",
    "    - files\n",
    "    - free space\n",
    "- File ID starts at 0 and increments each block\n",
    "- to compress the files - move them one at a time from the lend of the disk into free space at the beginning.\n",
    "- the checksum is the sum of the products of each file id and block index"
   ]
  },
  {
   "cell_type": "code",
   "execution_count": 3,
   "metadata": {},
   "outputs": [],
   "source": [
    "from dataclasses import dataclass\n",
    "import logging\n",
    "\n",
    "from advent_of_code_utils.advent_of_code_utils import (\n",
    "    parse_from_file, ParseConfig as PC, markdown\n",
    ")\n",
    "\n",
    "log = logging.getLogger('day 9')\n",
    "logging.basicConfig(level=logging.INFO)"
   ]
  },
  {
   "cell_type": "code",
   "execution_count": null,
   "metadata": {},
   "outputs": [
    {
     "name": "stderr",
     "output_type": "stream",
     "text": [
      "DEBUG:day 9:added new_block=FileBlocks(id=0, start=0, end=2)\n",
      "DEBUG:day 9:Incremented start by 3\n",
      "DEBUG:day 9:added new_block=FileBlocks(id=1, start=5, end=8)\n",
      "DEBUG:day 9:Incremented start by 3\n",
      "DEBUG:day 9:added new_block=FileBlocks(id=2, start=11, end=12)\n",
      "DEBUG:day 9:Incremented start by 3\n",
      "DEBUG:day 9:added new_block=FileBlocks(id=3, start=15, end=18)\n",
      "DEBUG:day 9:Incremented start by 1\n",
      "DEBUG:day 9:added new_block=FileBlocks(id=4, start=19, end=21)\n",
      "DEBUG:day 9:Incremented start by 1\n",
      "DEBUG:day 9:added new_block=FileBlocks(id=5, start=22, end=26)\n",
      "DEBUG:day 9:Incremented start by 1\n",
      "DEBUG:day 9:added new_block=FileBlocks(id=6, start=27, end=31)\n",
      "DEBUG:day 9:Incremented start by 1\n",
      "DEBUG:day 9:added new_block=FileBlocks(id=7, start=32, end=35)\n",
      "DEBUG:day 9:Incremented start by 1\n",
      "DEBUG:day 9:added new_block=FileBlocks(id=8, start=36, end=40)\n",
      "DEBUG:day 9:Incremented start by 0\n",
      "DEBUG:day 9:added new_block=FileBlocks(id=9, start=40, end=42)\n",
      "INFO:day 9:Mapped disk with disk.len=10\n",
      "INFO:day 9:00...111...2...333.44.5555.6666.777.888899\n"
     ]
    }
   ],
   "source": [
    "# lets work on the example first\n",
    "example = '2333133121414131402'\n",
    "ex_disk = [int(char) for char in example]\n",
    "\n",
    "@dataclass\n",
    "class FileBlocks:\n",
    "    id: int\n",
    "    start: int\n",
    "    end: int\n",
    "\n",
    "    @property\n",
    "    def len(self) -> int:\n",
    "        return self.end - self.start\n",
    "\n",
    "    def range(self):\n",
    "        return range(self.start, self.end)\n",
    "\n",
    "@dataclass\n",
    "class Disk:\n",
    "    files: list[FileBlocks]\n",
    "\n",
    "    @property\n",
    "    def len(self) -> int:\n",
    "        return len(self.files)\n",
    "    \n",
    "    @property\n",
    "    def debug_str(self) -> str:\n",
    "        \"\"\"returns a string like the example for debugging\"\"\"\n",
    "        output = ['.']*self.files[-1].end\n",
    "        previous = None\n",
    "        for fileblock in self.files:\n",
    "            for index in fileblock.range():\n",
    "                output[index] = f'{fileblock.id}'\n",
    "        return ''.join(output)\n",
    "\n",
    "\n",
    "def defrag(input_disk: list[int]) -> Disk:\n",
    "    \"\"\"returns the defragmented disk\"\"\"\n",
    "    # first convert to a Disk type object\n",
    "    disk = Disk([])\n",
    "    is_file = True\n",
    "    start = 0\n",
    "    file_id = 0\n",
    "    for digit in input_disk:\n",
    "        if is_file:\n",
    "            new_block = FileBlocks(file_id, start, start + digit)\n",
    "            disk.files.append(new_block)\n",
    "            log.debug(f'added {new_block=}')\n",
    "            file_id += 1\n",
    "        else:\n",
    "            log.debug(f'Incremented start by {digit}')\n",
    "        start += digit\n",
    "        is_file = not is_file\n",
    "    log.info(f'Mapped disk with {disk.len=}')\n",
    "\n",
    "    return disk\n",
    "\n",
    "log.setLevel(logging.DEBUG)\n",
    "ex_defrag = defrag(ex_disk)\n",
    "log.info(f'{ex_defrag.debug_str}')"
   ]
  },
  {
   "cell_type": "code",
   "execution_count": null,
   "metadata": {},
   "outputs": [],
   "source": [
    "parser = PC('', int)\n",
    "disk = parse_from_file('day_9.txt', parser)"
   ]
  }
 ],
 "metadata": {
  "kernelspec": {
   "display_name": ".venv",
   "language": "python",
   "name": "python3"
  },
  "language_info": {
   "codemirror_mode": {
    "name": "ipython",
    "version": 3
   },
   "file_extension": ".py",
   "mimetype": "text/x-python",
   "name": "python",
   "nbconvert_exporter": "python",
   "pygments_lexer": "ipython3",
   "version": "3.12.0"
  }
 },
 "nbformat": 4,
 "nbformat_minor": 2
}

{
 "cells": [
  {
   "cell_type": "markdown",
   "metadata": {},
   "source": [
    "# Day 8\n",
    "\n",
    "## part 1\n",
    "\n",
    "- Tuning frequency represented by `a-z`, `A-Z` or `0-9`\n",
    "- Antinodes are created when 2 antennas are aligned such that\n",
    "    - in line with the 2 antennas\n",
    "    - twice as far from one as from the other\n",
    "- Antinodes can occur at points with antennae\n",
    "- Find the number of unique locations where antinodes are created within the map bounds"
   ]
  },
  {
   "cell_type": "code",
   "execution_count": 26,
   "metadata": {},
   "outputs": [],
   "source": [
    "from copy import deepcopy\n",
    "import logging\n",
    "\n",
    "from matplotlib import pyplot as plt\n",
    "from tqdm import tqdm\n",
    "\n",
    "from advent_of_code_utils.advent_of_code_utils import (\n",
    "    parse_from_file, ParseConfig as PC, plot_grid, markdown, create_gif,\n",
    "    embed_image\n",
    ")\n",
    "\n",
    "log = logging.getLogger('day 8')\n",
    "logging.basicConfig(level=logging.INFO)"
   ]
  },
  {
   "cell_type": "code",
   "execution_count": 3,
   "metadata": {},
   "outputs": [
    {
     "name": "stderr",
     "output_type": "stream",
     "text": [
      "INFO:advent_of_code_utils.py:50 items loaded from \"day_8.txt\"\n"
     ]
    },
    {
     "data": {
      "image/png": "[encoded data removed]",
      "text/plain": [
       "<Figure size 640x480 with 1 Axes>"
      ]
     },
     "metadata": {},
     "output_type": "display_data"
    }
   ],
   "source": [
    "parser = PC('\\n', PC('', str))\n",
    "\n",
    "puzzle_grid = parse_from_file('day_8.txt', parser)\n",
    "\n",
    "def plot_state(grid: list[list[str]], ax: plt.Axes) -> None:\n",
    "    \"\"\"converts the grid to plotable values and plots it\"\"\"\n",
    "    temp = [[ord(char) for char in line] for line in grid]\n",
    "    plot_grid(temp, ax)\n",
    "\n",
    "fig, ax = plt.subplots()\n",
    "ax.set_title('A not particularly phased array...')\n",
    "plot_state(puzzle_grid, ax)"
   ]
  },
  {
   "cell_type": "code",
   "execution_count": 19,
   "metadata": {},
   "outputs": [
    {
     "name": "stderr",
     "output_type": "stream",
     "text": [
      "INFO:day 8:Located antennae for 58 frequencies\n",
      "finding antinodes: 100%|██████████| 58/58 [00:00<00:00, 12964.70it/s]\n"
     ]
    }
   ],
   "source": [
    "def get_antinodes(antennae: list[tuple[int, int]]) -> list[tuple[int, int]]:\n",
    "    \"\"\"\n",
    "    returns the antinode locations of the antennae passed\n",
    "    (assumes all same frequency)\n",
    "    \"\"\"\n",
    "    log.debug(f'finding antinodes for {len(antennae)} antennae')\n",
    "    # first get all the combinations of antenna pairs\n",
    "    pairs = []\n",
    "    for start, p1 in enumerate(antennae[:-1]):\n",
    "        for p2 in antennae[start + 1:]:\n",
    "            pairs.append((p1, p2))\n",
    "    log.debug(f'created {len(pairs)} pair combinations')\n",
    "    \n",
    "    # now find all the locations of antinodes (including out of bounds)\n",
    "    antinodes = []\n",
    "    for p1, p2 in pairs:\n",
    "        # find the difference\n",
    "        offsets = tuple(a - b for a, b in zip(p1, p2))\n",
    "        # add diff to p1\n",
    "        antinodes.append(tuple(p + o for p, o in zip(p1, offsets)))\n",
    "        # and subtract diff from p2\n",
    "        antinodes.append(tuple(p - o for p, o in zip(p2, offsets)))\n",
    "    return antinodes\n",
    "\n",
    "def in_bounds(grid: list[list], line: int, char: int) -> bool:\n",
    "    \"\"\"returns true if in bounds\"\"\"\n",
    "    return 0 <= line < len(grid) and 0 <= char < len(grid[0])\n",
    "\n",
    "def find_antinodes(grid: list[list[str]]) -> set[tuple[int, int]]:\n",
    "    \"\"\"returns an equally sized grid with the antinode locations\"\"\"\n",
    "    # first let's find all the antenna frequency locations\n",
    "    frequencies = {}\n",
    "    for l, line in enumerate(grid):\n",
    "        for c, char in enumerate(line):\n",
    "            if char == '.':\n",
    "                continue\n",
    "            if char not in frequencies:\n",
    "                log.debug(f'added frequency: {char}')\n",
    "                frequencies.update({char: []})\n",
    "            point = (l, c)\n",
    "            log.debug(f'{char} at {point}')\n",
    "            frequencies[char].append(point)\n",
    "    log.info(f'Located antennae for {len(frequencies)} frequencies')\n",
    "\n",
    "    antinodes = []\n",
    "    for freq, locations in tqdm(frequencies.items(), desc='finding antinodes'):\n",
    "        # get all possible antinodes\n",
    "        temp = get_antinodes(locations)\n",
    "        # filter out only the ones that are in bounds\n",
    "        temp = [p for p in temp if in_bounds(grid, *p)]\n",
    "        # add them to the grid\n",
    "        antinodes.extend(temp)\n",
    "\n",
    "    return set(antinodes)\n",
    "\n",
    "log.setLevel(logging.INFO)\n",
    "antinodes = find_antinodes(puzzle_grid)"
   ]
  },
  {
   "cell_type": "code",
   "execution_count": 14,
   "metadata": {},
   "outputs": [
    {
     "data": {
      "text/markdown": [
       "The number of unique antinode locations is: 361"
      ],
      "text/plain": [
       "<IPython.core.display.Markdown object>"
      ]
     },
     "metadata": {},
     "output_type": "display_data"
    }
   ],
   "source": [
    "markdown(f'The number of unique antinode locations is: {len(antinodes)}')"
   ]
  },
  {
   "cell_type": "code",
   "execution_count": null,
   "metadata": {},
   "outputs": [
    {
     "data": {
      "image/png": "[encoded data removed]",
      "text/plain": [
       "<Figure size 640x480 with 1 Axes>"
      ]
     },
     "metadata": {},
     "output_type": "display_data"
    }
   ],
   "source": [
    "antinode_grid = [['.' for _ in line] for line in puzzle_grid]\n",
    "for line, char in antinodes:\n",
    "    antinode_grid[line][char] = '|'  # used this as it is higher ord() than 'z'\n",
    "\n",
    "fig, ax = plt.subplots()\n",
    "ax.set_title('Hotspots in your area!')\n",
    "plot_state(antinode_grid, ax)"
   ]
  },
  {
   "cell_type": "markdown",
   "metadata": {},
   "source": [
    "## part 2\n",
    "\n",
    "- Turns out instead antinodes are at any multiple of the offset, including on the antennae themselves\n",
    "- time to find the rest of them!"
   ]
  },
  {
   "cell_type": "code",
   "execution_count": 21,
   "metadata": {},
   "outputs": [
    {
     "name": "stderr",
     "output_type": "stream",
     "text": [
      "INFO:day 8:Located antennae for 58 frequencies\n",
      "finding antinodes: 100%|██████████| 58/58 [00:00<00:00, 7178.42it/s]\n"
     ]
    }
   ],
   "source": [
    "def get_all_antinodes(\n",
    "    antennae: list[tuple[int, int]],\n",
    "    grid: list[list]\n",
    ") -> set[tuple[int, int]]:\n",
    "    \"\"\"\n",
    "    returns ALL the unique antinode locations of the antennae passed\n",
    "    (assumes all same frequency)\n",
    "\n",
    "    This time since we pass the grid the antinodes returned are all valid\n",
    "    \"\"\"\n",
    "    log.debug(f'finding antinodes for {len(antennae)} antennae')\n",
    "    # first get all the combinations of antenna pairs\n",
    "    pairs = []\n",
    "    for start, p1 in enumerate(antennae[:-1]):\n",
    "        for p2 in antennae[start + 1:]:\n",
    "            pairs.append((p1, p2))\n",
    "    log.debug(f'created {len(pairs)} pair combinations')\n",
    "    \n",
    "    # now find all the locations of antinodes (including out of bounds)\n",
    "    antinodes = []\n",
    "    for p1, p2 in pairs:\n",
    "        # find the difference\n",
    "        offsets = tuple(a - b for a, b in zip(p1, p2))\n",
    "        # going forward from p1\n",
    "        point = p1\n",
    "        while in_bounds(grid, *point):\n",
    "            antinodes.append(point)\n",
    "            point = tuple(p + o for p, o in zip(point, offsets))\n",
    "        # going forward from p2\n",
    "        point = p2\n",
    "        while in_bounds(grid, *point):\n",
    "            antinodes.append(point)\n",
    "            point = tuple(p - o for p, o in zip(point, offsets))\n",
    "\n",
    "    return set(antinodes)\n",
    "\n",
    "def find_all_antinodes(grid: list[list[str]]) -> set[tuple[int, int]]:\n",
    "    \"\"\"returns an equally sized grid with the antinode locations\"\"\"\n",
    "    # first let's find all the antenna frequency locations\n",
    "    frequencies = {}\n",
    "    for l, line in enumerate(grid):\n",
    "        for c, char in enumerate(line):\n",
    "            if char == '.':\n",
    "                continue\n",
    "            if char not in frequencies:\n",
    "                log.debug(f'added frequency: {char}')\n",
    "                frequencies.update({char: []})\n",
    "            point = (l, c)\n",
    "            log.debug(f'{char} at {point}')\n",
    "            frequencies[char].append(point)\n",
    "    log.info(f'Located antennae for {len(frequencies)} frequencies')\n",
    "\n",
    "    antinodes = []\n",
    "    for locations in tqdm(frequencies.values(), desc='finding antinodes'):\n",
    "        # get all possible antinodes\n",
    "        temp = get_all_antinodes(locations, grid)\n",
    "        # add them to the grid\n",
    "        antinodes.extend(temp)\n",
    "\n",
    "    return set(antinodes)\n",
    "\n",
    "log.setLevel(logging.INFO)\n",
    "all_antinodes = find_all_antinodes(puzzle_grid)"
   ]
  },
  {
   "cell_type": "code",
   "execution_count": 24,
   "metadata": {},
   "outputs": [
    {
     "data": {
      "text/markdown": [
       "Considering all harmonics there are instead: 1249 antinodes"
      ],
      "text/plain": [
       "<IPython.core.display.Markdown object>"
      ]
     },
     "metadata": {},
     "output_type": "display_data"
    }
   ],
   "source": [
    "markdown(\n",
    "    f'Considering all harmonics there are instead: {len(all_antinodes)} '\n",
    "    'antinodes'\n",
    ")"
   ]
  },
  {
   "cell_type": "code",
   "execution_count": 27,
   "metadata": {},
   "outputs": [
    {
     "name": "stderr",
     "output_type": "stream",
     "text": [
      "INFO:advent_of_code_utils.py:Creating 2 frame images using \"plot_state()\"\n",
      "generating frames: 100%|██████████| 2/2 [00:00<00:00, 14.76it/s]\n",
      "INFO:advent_of_code_utils.py:2 images saved to \"img_temp\"\n",
      "INFO:advent_of_code_utils.py:Creating \"day_8.gif\" with frame duration 1000ms\n",
      "INFO:advent_of_code_utils.py:\"day_8.gif\" saved!\n",
      "INFO:advent_of_code_utils.py:\"img_temp\" cleaned up\n"
     ]
    }
   ],
   "source": [
    "all_antinode_grid = deepcopy(puzzle_grid)\n",
    "for line, char in antinodes:\n",
    "    all_antinode_grid[line][char] = '|'  # used this as it is higher ord() than 'z'\n",
    "\n",
    "gifpath = create_gif(\n",
    "    [puzzle_grid, all_antinode_grid], plot_state, 'day_8',\n",
    "    frame_duration_ms=1000, title='Reception of deception!')"
   ]
  },
  {
   "cell_type": "code",
   "execution_count": 28,
   "metadata": {},
   "outputs": [
    {
     "name": "stderr",
     "output_type": "stream",
     "text": [
      "INFO:advent_of_code_utils.py:Embedding \"day_8.gif\"\n"
     ]
    },
    {
     "data": {
      "image/gif": "[encoded data removed]",
      "text/plain": [
       "Embedded from day_8.gif"
      ]
     },
     "metadata": {},
     "output_type": "display_data"
    }
   ],
   "source": [
    "embed_image(gifpath)"
   ]
  }
 ],
 "metadata": {
  "kernelspec": {
   "display_name": ".venv",
   "language": "python",
   "name": "python3"
  },
  "language_info": {
   "codemirror_mode": {
    "name": "ipython",
    "version": 3
   },
   "file_extension": ".py",
   "mimetype": "text/x-python",
   "name": "python",
   "nbconvert_exporter": "python",
   "pygments_lexer": "ipython3",
   "version": "3.12.0"
  }
 },
 "nbformat": 4,
 "nbformat_minor": 2
}

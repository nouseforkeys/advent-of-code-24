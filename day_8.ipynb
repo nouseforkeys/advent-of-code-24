{
 "cells": [
  {
   "cell_type": "markdown",
   "metadata": {},
   "source": [
    "# Day 8\n",
    "\n",
    "## part 1\n",
    "\n",
    "- Tuning frequency represented by `a-z`, `A-Z` or `0-9`\n",
    "- Antinodes are created when 2 antennas are aligned such that\n",
    "    - in line with the 2 antennas\n",
    "    - twice as far from one as from the other\n",
    "- Antinodes can occur at points with antennae\n",
    "- Find the number of unique locations where antinodes are created within the map bounds"
   ]
  },
  {
   "cell_type": "code",
   "execution_count": 11,
   "metadata": {},
   "outputs": [],
   "source": [
    "import logging\n",
    "\n",
    "from matplotlib import pyplot as plt\n",
    "from tqdm import tqdm\n",
    "\n",
    "from advent_of_code_utils.advent_of_code_utils import (\n",
    "    parse_from_file, ParseConfig as PC, plot_grid, markdown\n",
    ")\n",
    "\n",
    "log = logging.getLogger('day 8')\n",
    "logging.basicConfig(level=logging.INFO)"
   ]
  },
  {
   "cell_type": "code",
   "execution_count": 3,
   "metadata": {},
   "outputs": [
    {
     "name": "stderr",
     "output_type": "stream",
     "text": [
      "INFO:advent_of_code_utils.py:50 items loaded from \"day_8.txt\"\n"
     ]
    },
    {
     "data": {
      "image/png": "[encoded data removed]",
      "text/plain": [
       "<Figure size 640x480 with 1 Axes>"
      ]
     },
     "metadata": {},
     "output_type": "display_data"
    }
   ],
   "source": [
    "parser = PC('\\n', PC('', str))\n",
    "\n",
    "puzzle_grid = parse_from_file('day_8.txt', parser)\n",
    "\n",
    "def plot_state(grid: list[list[str]], ax: plt.Axes) -> None:\n",
    "    \"\"\"converts the grid to plotable values and plots it\"\"\"\n",
    "    temp = [[ord(char) for char in line] for line in grid]\n",
    "    plot_grid(temp, ax)\n",
    "\n",
    "fig, ax = plt.subplots()\n",
    "ax.set_title('A not particularly phased array...')\n",
    "plot_state(puzzle_grid, ax)"
   ]
  },
  {
   "cell_type": "code",
   "execution_count": 13,
   "metadata": {},
   "outputs": [
    {
     "name": "stderr",
     "output_type": "stream",
     "text": [
      "INFO:day 8:Located antennae for 58 frequencies\n",
      "finding antinodes: 100%|██████████| 58/58 [00:00<00:00, 12816.48it/s]"
     ]
    },
    {
     "name": "stderr",
     "output_type": "stream",
     "text": [
      "\n"
     ]
    }
   ],
   "source": [
    "def get_antinodes(antennae: list[tuple[int, int]]) -> list[tuple[int, int]]:\n",
    "    \"\"\"\n",
    "    returns the antinode locations of the antennae passed\n",
    "    (assumes all same frequency)\n",
    "    \"\"\"\n",
    "    log.debug(f'finding antinodes for {len(antennae)} antennae')\n",
    "    # first get all the combinations of antenna pairs\n",
    "    pairs = []\n",
    "    for start, p1 in enumerate(antennae[:-1]):\n",
    "        for p2 in antennae[start + 1:]:\n",
    "            pairs.append((p1, p2))\n",
    "    log.debug(f'created {len(pairs)} pair combinations')\n",
    "    \n",
    "    # now find all the locations of antinodes (including out of bounds)\n",
    "    antinodes = []\n",
    "    for p1, p2 in pairs:\n",
    "        # find the difference\n",
    "        offsets = tuple(a - b for a, b in zip(p1, p2))\n",
    "        # add diff to p1\n",
    "        antinodes.append(tuple(p + o for p, o in zip(p1, offsets)))\n",
    "        # and subtract diff from p2\n",
    "        antinodes.append(tuple(p - o for p, o in zip(p2, offsets)))\n",
    "    return antinodes\n",
    "\n",
    "def in_bounds(grid: list[list], line: int, char: int) -> bool:\n",
    "    \"\"\"returns true if in bounds\"\"\"\n",
    "    return 0 <= line < len(grid) and 0 <= char < len(grid[0])\n",
    "\n",
    "def find_antinodes(grid: list[list[str]]) -> set[tuple[int, int]]:\n",
    "    \"\"\"returns an equally sized grid with the antinode locations\"\"\"\n",
    "    # first let's find all the antenna frequency locations\n",
    "    frequencies = {}\n",
    "    for l, line in enumerate(grid):\n",
    "        for c, char in enumerate(line):\n",
    "            if char == '.':\n",
    "                continue\n",
    "            if char not in frequencies:\n",
    "                log.debug(f'added frequency: {char}')\n",
    "                frequencies.update({char: []})\n",
    "            point = (l, c)\n",
    "            log.debug(f'{char} at {point}')\n",
    "            frequencies[char].append(point)\n",
    "    log.info(f'Located antennae for {len(frequencies)} frequencies')\n",
    "\n",
    "    antinodes = []\n",
    "    for freq, locations in tqdm(frequencies.items(), desc='finding antinodes'):\n",
    "        # get all possible antinodes\n",
    "        temp = get_antinodes(locations)\n",
    "        # filter out only the ones that are in bounds\n",
    "        temp = [p for p in temp if in_bounds(grid, *p)]\n",
    "        # add them to the grid\n",
    "        antinodes.extend(temp)\n",
    "\n",
    "    return set(antinodes)\n",
    "\n",
    "log.setLevel(logging.INFO)\n",
    "antinodes = find_antinodes(puzzle_grid)"
   ]
  },
  {
   "cell_type": "code",
   "execution_count": 14,
   "metadata": {},
   "outputs": [
    {
     "data": {
      "text/markdown": [
       "The number of unique antinode locations is: 361"
      ],
      "text/plain": [
       "<IPython.core.display.Markdown object>"
      ]
     },
     "metadata": {},
     "output_type": "display_data"
    }
   ],
   "source": [
    "markdown(f'The number of unique antinode locations is: {len(antinodes)}')"
   ]
  }
 ],
 "metadata": {
  "kernelspec": {
   "display_name": ".venv",
   "language": "python",
   "name": "python3"
  },
  "language_info": {
   "codemirror_mode": {
    "name": "ipython",
    "version": 3
   },
   "file_extension": ".py",
   "mimetype": "text/x-python",
   "name": "python",
   "nbconvert_exporter": "python",
   "pygments_lexer": "ipython3",
   "version": "3.12.0"
  }
 },
 "nbformat": 4,
 "nbformat_minor": 2
}

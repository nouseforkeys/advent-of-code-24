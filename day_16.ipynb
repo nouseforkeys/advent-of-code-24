{
 "cells": [
  {
   "cell_type": "markdown",
   "metadata": {},
   "source": [
    "# Day 16\n",
    "\n",
    "## part 1\n",
    "\n",
    "- Start on `S` facing east and end on `E`\n",
    "- moving adds 1 point\n",
    "- rotating 90 degrees adds 1000 points\n",
    "- lowest score wins"
   ]
  },
  {
   "cell_type": "code",
   "execution_count": 16,
   "metadata": {},
   "outputs": [],
   "source": [
    "from dataclasses import dataclass\n",
    "import logging\n",
    "\n",
    "from matplotlib import pyplot as plt\n",
    "from tqdm import tqdm\n",
    "import numpy as np\n",
    "\n",
    "from advent_of_code_utils.advent_of_code_utils import (\n",
    "    parse_from_file, ParseConfig as PC, markdown, plot_str_grid, Point2 as P,\n",
    "    plot_grid\n",
    ")\n",
    "\n",
    "log = logging.getLogger('day 16')\n",
    "logging.basicConfig(level=logging.INFO)"
   ]
  },
  {
   "cell_type": "code",
   "execution_count": 2,
   "metadata": {},
   "outputs": [
    {
     "name": "stderr",
     "output_type": "stream",
     "text": [
      "INFO:advent_of_code_utils.py:141 items loaded from \"day_16.txt\"\n",
      "INFO:advent_of_code_utils.py:converted 141x141 to ints\n"
     ]
    },
    {
     "data": {
      "image/png": "[encoded data removed]",
      "text/plain": [
       "<Figure size 640x480 with 1 Axes>"
      ]
     },
     "metadata": {},
     "output_type": "display_data"
    }
   ],
   "source": [
    "parser = PC('\\n', PC('', str))\n",
    "grid = parse_from_file('day_16.txt', parser)\n",
    "\n",
    "fig, ax = plt.subplots()\n",
    "ax.set_title('Wow. A maze...ing')\n",
    "plot_str_grid(grid, ax)"
   ]
  },
  {
   "cell_type": "code",
   "execution_count": 3,
   "metadata": {},
   "outputs": [
    {
     "name": "stderr",
     "output_type": "stream",
     "text": [
      "INFO:day 16:start=(139, 1), end=(1, 139)\n"
     ]
    }
   ],
   "source": [
    "def get_start_end(grid: list[list[str]]) -> tuple[P]:\n",
    "    \"\"\"returns the start and end points\"\"\"\n",
    "    start, end = None, None\n",
    "    for l, line in enumerate(grid):\n",
    "        for c, char in enumerate(line):\n",
    "            if char == 'S':\n",
    "                start = P(l, c)\n",
    "            elif char == 'E':\n",
    "                end = P(l, c)\n",
    "        if all((p is not None for p in (start, end))):\n",
    "            log.info(f'{start=}, {end=}')\n",
    "            return start, end\n",
    "    else:\n",
    "        raise ValueError(f'couldn\\'t find start/end: {start=}, {end=}')\n",
    "\n",
    "start, end = get_start_end(grid)"
   ]
  },
  {
   "cell_type": "code",
   "execution_count": 4,
   "metadata": {},
   "outputs": [
    {
     "name": "stderr",
     "output_type": "stream",
     "text": [
      "INFO:day 16:created grid graph\n",
      "INFO:day 16:grid graph links populated\n"
     ]
    }
   ],
   "source": [
    "@dataclass\n",
    "class Dest:\n",
    "    point: P\n",
    "    facing: str\n",
    "    cost: int\n",
    "\n",
    "@dataclass\n",
    "class Node:\n",
    "    links: list[Dest]\n",
    "    visited: bool = False\n",
    "    score: int = None\n",
    "\n",
    "    def __hash__(self) -> int:\n",
    "        return hash((self.p, self.f))\n",
    "    \n",
    "    def __eq__(self, other: 'Node') -> bool:\n",
    "        return all((self.p == other.p, self.f == other.f))\n",
    "\n",
    "offsets = {\n",
    "    'N': P(-1, 0),\n",
    "    'E': P(0, 1),\n",
    "    'S': P(1, 0),\n",
    "    'W': P(0, -1),\n",
    "}\n",
    "\n",
    "cw = {'N': 'E', 'E': 'S', 'S': 'W', 'W': 'N'}\n",
    "ccw = {value: key for key, value in cw.items()}\n",
    "\n",
    "# ok next we're gonna need a graph\n",
    "def get_graph(grid: list[list[str]]) -> list[list[Node | None]]:\n",
    "    \"\"\"returns a grid of movement possiblities / None if N/A\"\"\"\n",
    "    # first find all possible nodes - i.e. all intersection points\n",
    "    graph = [[None]*len(line) for line in grid]\n",
    "    for l, line in enumerate(grid):\n",
    "        for c, char in enumerate(line):\n",
    "            # skip walls\n",
    "            if char == '#':\n",
    "                continue\n",
    "            # find all neighbours\n",
    "            point = P(l, c)\n",
    "            neighbours = ''\n",
    "            for adj, facing in zip(point.adjacent(), offsets):\n",
    "                if grid[adj.l][adj.c] != '#':\n",
    "                    neighbours += facing\n",
    "            # any spaces with only a straight line available should be skipped\n",
    "            if neighbours in ['EW', 'NS']:\n",
    "                continue\n",
    "            # else we have a node - add all possible directions to face\n",
    "            graph[l][c] = {}\n",
    "            for facing in offsets:\n",
    "                links = \\\n",
    "                    [Dest(point, turn[facing], 1000) for turn in (cw, ccw)]\n",
    "                graph[l][c].update({facing: Node(links)})\n",
    "\n",
    "    log.info('created grid graph')\n",
    "\n",
    "    # next find where each node goes and for how much\n",
    "    for l, line in enumerate(graph):\n",
    "        for c, directions in enumerate(line):\n",
    "            if directions is None:\n",
    "                continue\n",
    "            tile = P(l, c)\n",
    "            for direction, node in directions.items():\n",
    "                # next find where facing that way will go\n",
    "                point = tile + offsets[direction]\n",
    "                steps = 1\n",
    "                while graph[point.l][point.c] is None:\n",
    "                    if grid[point.l][point.c] == '#':\n",
    "                        point = None\n",
    "                        break\n",
    "                    point += offsets[direction]\n",
    "                    steps += 1\n",
    "                if point is not None:\n",
    "                    node.links.append(Dest(point, direction, steps))\n",
    "    log.info(f'grid graph links populated')\n",
    "    return graph\n",
    "\n",
    "graph = get_graph(grid)\n"
   ]
  },
  {
   "cell_type": "code",
   "execution_count": 5,
   "metadata": {},
   "outputs": [
    {
     "name": "stdout",
     "output_type": "stream",
     "text": [
      "node.score=104450\r"
     ]
    },
    {
     "name": "stderr",
     "output_type": "stream",
     "text": [
      "INFO:day 16:Reached the end!\n"
     ]
    },
    {
     "name": "stdout",
     "output_type": "stream",
     "text": [
      "node.score=106508\r"
     ]
    }
   ],
   "source": [
    "def get_next_node(graph: dict[Node: list[Dest]]) -> Node | None:\n",
    "    \"\"\"returns the unvisited node with the lowest score or None if done\"\"\"\n",
    "    lowest_node = None\n",
    "    for l, line in enumerate(graph):\n",
    "        for c, nodes in enumerate(line):\n",
    "            if nodes is None:\n",
    "                continue\n",
    "            for node in nodes.values():\n",
    "                # skip visited\n",
    "                if node.visited:\n",
    "                    continue\n",
    "                # skip nodes that are not visitable yet\n",
    "                if node.score is None:\n",
    "                    continue\n",
    "                if lowest_node is None:\n",
    "                    lowest_node = node\n",
    "                elif node.score < lowest_node.score:\n",
    "                    lowest_node = node\n",
    "    return lowest_node\n",
    "\n",
    "def update_scores(graph: dict[Node: list[Dest]], start: P, end: P) -> None:\n",
    "    \"\"\"updates the scores navigating from start to end\"\"\"\n",
    "    graph[start.l][start.c]['E'].score = 0\n",
    "    while True:\n",
    "        # find an unvisited node with the least score\n",
    "        node = get_next_node(graph)\n",
    "        print(f'{node.score=}', end='\\r')\n",
    "        if node is None:\n",
    "            log.error('tested all reachable node without getting to the end!')\n",
    "            return\n",
    "\n",
    "        for dest in node.links:\n",
    "            dest_node = graph[dest.point.l][dest.point.c][dest.facing]\n",
    "            if dest_node.visited:\n",
    "                continue\n",
    "            new_score = node.score + dest.cost\n",
    "            if dest_node.score is None:\n",
    "                dest_node.score = new_score\n",
    "            elif new_score < dest_node.score:\n",
    "                dest_node.score = new_score\n",
    "            # else the destination was closer than via this node\n",
    "\n",
    "            # if we did get to the end, break!\n",
    "            if dest.point == end:\n",
    "                log.info('Reached the end!')\n",
    "                return\n",
    "\n",
    "        node.visited = True\n",
    "\n",
    "update_scores(graph, start, end)"
   ]
  },
  {
   "cell_type": "code",
   "execution_count": 6,
   "metadata": {},
   "outputs": [
    {
     "data": {
      "text/markdown": [
       "The minimum score for the maze is 106512"
      ],
      "text/plain": [
       "<IPython.core.display.Markdown object>"
      ]
     },
     "metadata": {},
     "output_type": "display_data"
    }
   ],
   "source": [
    "end_nodes = graph[end.l][end.c].values()\n",
    "min_score = min((node.score for node in end_nodes if node.score is not None))\n",
    "\n",
    "markdown(\n",
    "    f'The minimum score for the maze is {min_score}'\n",
    ")"
   ]
  },
  {
   "cell_type": "code",
   "execution_count": 20,
   "metadata": {},
   "outputs": [
    {
     "data": {
      "image/png": "[encoded data removed]",
      "text/plain": [
       "<Figure size 640x480 with 1 Axes>"
      ]
     },
     "metadata": {},
     "output_type": "display_data"
    }
   ],
   "source": [
    "def plot_graph(graph: list[list[dict[Node]]], ax: plt.Axes) -> None:\n",
    "    temp = []\n",
    "    for line in graph:\n",
    "        temp.append([])\n",
    "        for nodes in line:\n",
    "            if nodes is None:\n",
    "                temp[-1].append(np.nan)\n",
    "                continue\n",
    "            scores = [\n",
    "                node.score for node in nodes.values()\n",
    "                if node.score is not None\n",
    "            ]\n",
    "            if len(scores) == 0:\n",
    "                temp[-1].append(np.nan)\n",
    "            else:\n",
    "                temp[-1].append(min(scores))\n",
    "\n",
    "    plot_grid(temp, ax)\n",
    "\n",
    "\n",
    "fig, ax = plt.subplots()\n",
    "ax.set_title('The scores are in')\n",
    "plot_graph(graph, ax)"
   ]
  }
 ],
 "metadata": {
  "kernelspec": {
   "display_name": ".venv",
   "language": "python",
   "name": "python3"
  },
  "language_info": {
   "codemirror_mode": {
    "name": "ipython",
    "version": 3
   },
   "file_extension": ".py",
   "mimetype": "text/x-python",
   "name": "python",
   "nbconvert_exporter": "python",
   "pygments_lexer": "ipython3",
   "version": "3.12.0"
  }
 },
 "nbformat": 4,
 "nbformat_minor": 2
}

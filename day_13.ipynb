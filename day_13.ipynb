{
 "cells": [
  {
   "cell_type": "markdown",
   "metadata": {},
   "source": [
    "# Day 13\n",
    "\n",
    "## part 1\n",
    "\n",
    "- `A` costs 3 token\n",
    "- `B` costs 1 token\n",
    "- Claw must be directly on the prize to win it\n",
    "- Some claw machines can't be won\n",
    "- Can only press a button a max of 100 times per machine\n",
    "- Find the smallest number of tokens required to will all possible prizes"
   ]
  },
  {
   "cell_type": "code",
   "execution_count": 1,
   "metadata": {},
   "outputs": [],
   "source": [
    "from dataclasses import dataclass\n",
    "import logging\n",
    "\n",
    "from advent_of_code_utils.advent_of_code_utils import (\n",
    "    parse_from_file, ParseConfig as PC, markdown, Point2 as P\n",
    ")\n",
    "\n",
    "log = logging.getLogger('day 13')\n",
    "logging.basicConfig(level=logging.INFO)"
   ]
  },
  {
   "cell_type": "code",
   "execution_count": 12,
   "metadata": {},
   "outputs": [
    {
     "name": "stderr",
     "output_type": "stream",
     "text": [
      "INFO:advent_of_code_utils.py:320 items loaded from \"day_13.txt\"\n"
     ]
    }
   ],
   "source": [
    "@dataclass\n",
    "class Machine:\n",
    "    a: P\n",
    "    b: P\n",
    "    prize: P\n",
    "    solution: P = None\n",
    "\n",
    "    def solve(self) -> None:\n",
    "        log.debug(f'solving {self}')\n",
    "        det = (self.a.x * self.b.y - self.b.x * self.a.y)\n",
    "        if det == 0:\n",
    "            log.debug('non-singular!')\n",
    "            raise ValueError(f'Machine button inputs are non-singular: {self}')\n",
    "        a = (self.b.y * self.prize.x - self.b.x * self.prize.y) / det\n",
    "        b = (-self.a.y * self.prize.x + self.a.x * self.prize.y) / det\n",
    "        # now check if it'll work with whole button presses\n",
    "        solution = P(a, b)\n",
    "        log.debug(f'{solution}')\n",
    "        if solution != solution.int():\n",
    "            log.debug('non-integer solution required - not winable')\n",
    "        else:\n",
    "            self.solution = solution.int()\n",
    "\n",
    "    def get_cost(self) -> int:\n",
    "        \"\"\"returns the token cost of the solution or 0 if you can't win\"\"\"\n",
    "        if self.solution is None:\n",
    "            return 0\n",
    "        else:\n",
    "            return 3 * self.solution.x + self.solution.y\n",
    "\n",
    "\n",
    "def parse_machine(machine_string: str) -> Machine:\n",
    "    \"\"\"helps unpack the input into a machine object\"\"\"\n",
    "    a, b, p = machine_string.split('\\n')\n",
    "    temp = [s.strip() for s in a.split(':')[-1].split(', ')]\n",
    "    a = P(*[int(s[1:]) for s in temp])\n",
    "    temp = [s.strip() for s in b.split(':')[-1].split(', ')]\n",
    "    b = P(*[int(s[1:]) for s in temp])\n",
    "    temp = [s.strip() for s in p.split(':')[-1].split(', ')]\n",
    "    p = P(*[int(s[2:]) for s in temp])\n",
    "    machine = Machine(a, b, p)\n",
    "    log.debug(f'parsed new machine: {machine}')\n",
    "    return machine\n",
    "\n",
    "log.setLevel(logging.INFO)\n",
    "parser = PC('\\n\\n', parse_machine)\n",
    "machines = parse_from_file('day_13.txt', parser)"
   ]
  },
  {
   "cell_type": "code",
   "execution_count": 14,
   "metadata": {},
   "outputs": [
    {
     "name": "stderr",
     "output_type": "stream",
     "text": [
      "DEBUG:day 13:parsed new machine: Machine(a=(94, 34), b=(22, 67), prize=(8400, 5400), solution=None)\n",
      "DEBUG:day 13:parsed new machine: Machine(a=(26, 66), b=(67, 21), prize=(12748, 12176), solution=None)\n",
      "DEBUG:day 13:parsed new machine: Machine(a=(17, 86), b=(84, 37), prize=(7870, 6450), solution=None)\n",
      "DEBUG:day 13:parsed new machine: Machine(a=(69, 23), b=(27, 71), prize=(18641, 10279), solution=None)\n",
      "INFO:advent_of_code_utils.py:4 items loaded from \"day_13_example.txt\"\n",
      "DEBUG:day 13:solving Machine(a=(94, 34), b=(22, 67), prize=(8400, 5400), solution=None)\n",
      "DEBUG:day 13:(80.0, 40.0)\n",
      "INFO:day 13:so the token cost is: 280\n",
      "DEBUG:day 13:solving Machine(a=(26, 66), b=(67, 21), prize=(12748, 12176), solution=None)\n",
      "DEBUG:day 13:(141.40454076367388, 135.3952528379773)\n",
      "DEBUG:day 13:non-integer solution required - not winable\n",
      "INFO:day 13:so the token cost is: 0\n",
      "DEBUG:day 13:solving Machine(a=(17, 86), b=(84, 37), prize=(7870, 6450), solution=None)\n",
      "DEBUG:day 13:(38.0, 86.0)\n",
      "INFO:day 13:so the token cost is: 200\n",
      "DEBUG:day 13:solving Machine(a=(69, 23), b=(27, 71), prize=(18641, 10279), solution=None)\n",
      "DEBUG:day 13:(244.50163627863486, 65.56989247311827)\n",
      "DEBUG:day 13:non-integer solution required - not winable\n",
      "INFO:day 13:so the token cost is: 0\n"
     ]
    }
   ],
   "source": [
    "log.setLevel(level=logging.DEBUG)\n",
    "tests = parse_from_file('day_13_example.txt', parser)\n",
    "for test in tests:\n",
    "    test.solve()\n",
    "    log.info(f'so the token cost is: {test.get_cost()}')"
   ]
  },
  {
   "cell_type": "code",
   "execution_count": 15,
   "metadata": {},
   "outputs": [
    {
     "data": {
      "text/markdown": [
       "The total token cost is: 36250"
      ],
      "text/plain": [
       "<IPython.core.display.Markdown object>"
      ]
     },
     "metadata": {},
     "output_type": "display_data"
    }
   ],
   "source": [
    "# that seems to work so let's solve!\n",
    "log.setLevel(logging.INFO)\n",
    "for machine in machines:\n",
    "    machine.solve()\n",
    "total_cost = sum((machine.get_cost() for machine in machines))\n",
    "markdown(f'The total token cost is: {total_cost}')"
   ]
  }
 ],
 "metadata": {
  "kernelspec": {
   "display_name": ".venv",
   "language": "python",
   "name": "python3"
  },
  "language_info": {
   "codemirror_mode": {
    "name": "ipython",
    "version": 3
   },
   "file_extension": ".py",
   "mimetype": "text/x-python",
   "name": "python",
   "nbconvert_exporter": "python",
   "pygments_lexer": "ipython3",
   "version": "3.12.0"
  }
 },
 "nbformat": 4,
 "nbformat_minor": 2
}

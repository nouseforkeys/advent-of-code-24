{
 "cells": [
  {
   "cell_type": "markdown",
   "metadata": {},
   "source": [
    "# Day 2\n",
    "\n",
    "## Part 1\n",
    "\n",
    "- reports are safe iff:\n",
    "    - levels are monotonic (up or down)\n",
    "    - level difference is: $1 \\le d \\le 3$\n",
    "- count the number of safe reports"
   ]
  },
  {
   "cell_type": "code",
   "execution_count": 7,
   "metadata": {},
   "outputs": [],
   "source": [
    "import logging\n",
    "\n",
    "from advent_of_code_utils.advent_of_code_utils import (\n",
    "    ParseConfig as PC, parse_from_file, markdown\n",
    ")\n",
    "\n",
    "log = logging.getLogger('day 2')\n",
    "logging.basicConfig(level=logging.INFO)"
   ]
  },
  {
   "cell_type": "code",
   "execution_count": 8,
   "metadata": {},
   "outputs": [
    {
     "name": "stderr",
     "output_type": "stream",
     "text": [
      "INFO:advent_of_code_utils.py:1000 items loaded from \"day_2.txt\"\n",
      "INFO:day 2:1000 reports loaded!\n"
     ]
    }
   ],
   "source": [
    "parser = PC('\\n', PC(' ', int))\n",
    "puzzle_input = parse_from_file('day_2.txt', parser)\n",
    "log.info(f'{len(puzzle_input)} reports loaded!')"
   ]
  },
  {
   "cell_type": "code",
   "execution_count": 12,
   "metadata": {},
   "outputs": [
    {
     "name": "stderr",
     "output_type": "stream",
     "text": [
      "DEBUG:day 2:analysing report=[1, 2, 3]\n",
      "DEBUG:day 2:checking: l1=1, l2=2 -> diff=1\n",
      "DEBUG:day 2:checking: l1=2, l2=3 -> diff=1\n",
      "DEBUG:day 2:report is safe\n",
      "DEBUG:day 2:analysing report=[3, 2, 1]\n",
      "DEBUG:day 2:report reversed\n",
      "DEBUG:day 2:checking: l1=1, l2=2 -> diff=1\n",
      "DEBUG:day 2:checking: l1=2, l2=3 -> diff=1\n",
      "DEBUG:day 2:report is safe\n",
      "DEBUG:day 2:analysing report=[1, 2, 1]\n",
      "DEBUG:day 2:checking: l1=1, l2=2 -> diff=1\n",
      "DEBUG:day 2:checking: l1=2, l2=1 -> diff=-1\n",
      "DEBUG:day 2:report is unsafe\n",
      "DEBUG:day 2:analysing report=[3, 2, 3]\n",
      "DEBUG:day 2:report reversed\n",
      "DEBUG:day 2:checking: l1=3, l2=2 -> diff=-1\n",
      "DEBUG:day 2:report is unsafe\n",
      "DEBUG:day 2:analysing report=[1, 5, 6]\n",
      "DEBUG:day 2:checking: l1=1, l2=5 -> diff=4\n",
      "DEBUG:day 2:report is unsafe\n",
      "DEBUG:day 2:analysing report=[6, 2, 1]\n",
      "DEBUG:day 2:report reversed\n",
      "DEBUG:day 2:checking: l1=1, l2=2 -> diff=1\n",
      "DEBUG:day 2:checking: l1=2, l2=6 -> diff=4\n",
      "DEBUG:day 2:report is unsafe\n"
     ]
    }
   ],
   "source": [
    "def is_safe(report: list[int]) -> bool:\n",
    "    \"\"\"returns true if report is safe\"\"\"\n",
    "    log.debug(f'analysing {report=}')\n",
    "    rut = [l for l in report]  # shallow copy\n",
    "    # reverse if possibly decending\n",
    "    if rut[0] > rut[1]:\n",
    "        log.debug(f'report reversed')\n",
    "        rut = list(reversed(rut))\n",
    "    safe = False  # assumed unsafe until for loop completes\n",
    "    for l1, l2 in zip(rut[:-1], rut[1:]):\n",
    "        diff = l2 - l1\n",
    "        log.debug(f'checking: {l1=}, {l2=} -> {diff=}')\n",
    "        if not (1 <= diff <= 3):\n",
    "            break\n",
    "    else:\n",
    "        safe = True\n",
    "    log.debug(f'report is {'safe' if safe else 'unsafe'}')\n",
    "    return safe\n",
    "\n",
    "tests = [\n",
    "    [1, 2, 3],\n",
    "    [3, 2, 1],\n",
    "    [1, 2, 1],\n",
    "    [3, 2, 3],\n",
    "    [1, 5, 6],\n",
    "    [6, 2, 1],\n",
    "]\n",
    "\n",
    "log.setLevel(logging.DEBUG)\n",
    "for report in tests:\n",
    "    is_safe(report)\n",
    "log.setLevel(logging.INFO)"
   ]
  },
  {
   "cell_type": "code",
   "execution_count": 13,
   "metadata": {},
   "outputs": [
    {
     "name": "stderr",
     "output_type": "stream",
     "text": [
      "INFO:day 2:1000 checked\n"
     ]
    },
    {
     "data": {
      "text/markdown": [
       "There are 663 safe reports!"
      ],
      "text/plain": [
       "<IPython.core.display.Markdown object>"
      ]
     },
     "metadata": {},
     "output_type": "display_data"
    }
   ],
   "source": [
    "# ok that works let's solve!\n",
    "safe_reports = [r for r in puzzle_input if is_safe(r)]\n",
    "log.info(f'{len(puzzle_input)} checked')\n",
    "markdown(f'There are {len(safe_reports)} safe reports!')\n"
   ]
  }
 ],
 "metadata": {
  "kernelspec": {
   "display_name": ".venv",
   "language": "python",
   "name": "python3"
  },
  "language_info": {
   "codemirror_mode": {
    "name": "ipython",
    "version": 3
   },
   "file_extension": ".py",
   "mimetype": "text/x-python",
   "name": "python",
   "nbconvert_exporter": "python",
   "pygments_lexer": "ipython3",
   "version": "3.12.0"
  }
 },
 "nbformat": 4,
 "nbformat_minor": 2
}

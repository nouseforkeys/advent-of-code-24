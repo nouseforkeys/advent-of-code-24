{
 "cells": [
  {
   "cell_type": "markdown",
   "metadata": {},
   "source": [
    "# Day 3\n",
    "\n",
    "# part 1\n",
    "\n",
    "- find the `mul` commands within the garbled input. The format is: `mul(x,y)`\n",
    "- ignore any expected sequences\n",
    "- find the sum of the `mul` products!"
   ]
  },
  {
   "cell_type": "code",
   "execution_count": 35,
   "metadata": {},
   "outputs": [],
   "source": [
    "import logging\n",
    "import re\n",
    "\n",
    "from advent_of_code_utils.advent_of_code_utils import (\n",
    "    markdown\n",
    ")\n",
    "\n",
    "log = logging.getLogger('day 3')\n",
    "logging.basicConfig(level=logging.INFO)\n",
    "\n",
    "with open('day_3.txt') as file:\n",
    "    puzzle_input = file.read()"
   ]
  },
  {
   "cell_type": "code",
   "execution_count": 36,
   "metadata": {},
   "outputs": [
    {
     "name": "stderr",
     "output_type": "stream",
     "text": [
      "INFO:day 3:found 738 matches\n"
     ]
    }
   ],
   "source": [
    "def find_commands(puzzle_input: str) -> list[str]:\n",
    "    \"\"\"finds all correct mul commands\"\"\"\n",
    "    pattern = r'mul\\(\\d{1,3},\\d{1,3}\\)'\n",
    "    result = re.findall(pattern, puzzle_input)\n",
    "    log.info(f'found {len(result)} matches')\n",
    "    return result\n",
    "\n",
    "matches = find_commands(puzzle_input)"
   ]
  },
  {
   "cell_type": "code",
   "execution_count": 37,
   "metadata": {},
   "outputs": [
    {
     "name": "stderr",
     "output_type": "stream",
     "text": [
      "INFO:day 3:738 commands evaluated\n"
     ]
    }
   ],
   "source": [
    "def evaluate_commands(commands: list[str]) -> int:\n",
    "    \"\"\"evaluates the mul() commands and returns the sum of the results\"\"\"\n",
    "    total = 0\n",
    "    for command in commands:\n",
    "        a, b = command[4:-1].split(',')  # get rid of 'mul(' and ')'\n",
    "        total += int(a) * int(b)\n",
    "    log.info(f'{len(commands)} commands evaluated')\n",
    "    return total\n",
    "\n",
    "total = evaluate_commands(matches)"
   ]
  },
  {
   "cell_type": "code",
   "execution_count": 38,
   "metadata": {},
   "outputs": [
    {
     "data": {
      "text/markdown": [
       "The total result of the correct commands is: 185797128"
      ],
      "text/plain": [
       "<IPython.core.display.Markdown object>"
      ]
     },
     "metadata": {},
     "output_type": "display_data"
    }
   ],
   "source": [
    "markdown(f'The total result of the correct commands is: {total}')"
   ]
  }
 ],
 "metadata": {
  "kernelspec": {
   "display_name": ".venv",
   "language": "python",
   "name": "python3"
  },
  "language_info": {
   "codemirror_mode": {
    "name": "ipython",
    "version": 3
   },
   "file_extension": ".py",
   "mimetype": "text/x-python",
   "name": "python",
   "nbconvert_exporter": "python",
   "pygments_lexer": "ipython3",
   "version": "3.12.0"
  }
 },
 "nbformat": 4,
 "nbformat_minor": 2
}

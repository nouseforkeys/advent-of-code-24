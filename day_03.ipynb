{
 "cells": [
  {
   "cell_type": "markdown",
   "metadata": {},
   "source": [
    "# Day 3\n",
    "\n",
    "# part 1\n",
    "\n",
    "- find the `mul` commands within the garbled input. The format is: `mul(x,y)`\n",
    "- ignore any expected sequences\n",
    "- find the sum of the `mul` products!"
   ]
  },
  {
   "cell_type": "code",
   "execution_count": 35,
   "metadata": {},
   "outputs": [],
   "source": [
    "import logging\n",
    "import re\n",
    "\n",
    "from advent_of_code_utils.advent_of_code_utils import (\n",
    "    markdown\n",
    ")\n",
    "\n",
    "log = logging.getLogger('day 3')\n",
    "logging.basicConfig(level=logging.INFO)\n",
    "\n",
    "with open('day_3.txt') as file:\n",
    "    puzzle_input = file.read()"
   ]
  },
  {
   "cell_type": "code",
   "execution_count": 36,
   "metadata": {},
   "outputs": [
    {
     "name": "stderr",
     "output_type": "stream",
     "text": [
      "INFO:day 3:found 738 matches\n"
     ]
    }
   ],
   "source": [
    "def find_commands(puzzle_input: str) -> list[str]:\n",
    "    \"\"\"finds all correct mul commands\"\"\"\n",
    "    pattern = r'mul\\(\\d{1,3},\\d{1,3}\\)'\n",
    "    result = re.findall(pattern, puzzle_input)\n",
    "    log.info(f'found {len(result)} matches')\n",
    "    return result\n",
    "\n",
    "matches = find_commands(puzzle_input)"
   ]
  },
  {
   "cell_type": "code",
   "execution_count": 37,
   "metadata": {},
   "outputs": [
    {
     "name": "stderr",
     "output_type": "stream",
     "text": [
      "INFO:day 3:738 commands evaluated\n"
     ]
    }
   ],
   "source": [
    "def evaluate_commands(commands: list[str]) -> int:\n",
    "    \"\"\"evaluates the mul() commands and returns the sum of the results\"\"\"\n",
    "    total = 0\n",
    "    for command in commands:\n",
    "        a, b = command[4:-1].split(',')  # get rid of 'mul(' and ')'\n",
    "        total += int(a) * int(b)\n",
    "    log.info(f'{len(commands)} commands evaluated')\n",
    "    return total\n",
    "\n",
    "total = evaluate_commands(matches)"
   ]
  },
  {
   "cell_type": "code",
   "execution_count": 38,
   "metadata": {},
   "outputs": [
    {
     "data": {
      "text/markdown": [
       "The total result of the correct commands is: 185797128"
      ],
      "text/plain": [
       "<IPython.core.display.Markdown object>"
      ]
     },
     "metadata": {},
     "output_type": "display_data"
    }
   ],
   "source": [
    "markdown(f'The total result of the correct commands is: {total}')"
   ]
  },
  {
   "cell_type": "markdown",
   "metadata": {},
   "source": [
    "## part 2\n",
    "\n",
    "- `do()` and `don't()` commands are now considered."
   ]
  },
  {
   "cell_type": "code",
   "execution_count": 42,
   "metadata": {},
   "outputs": [],
   "source": [
    "def find_commands(puzzle_input: str) -> list[str]:\n",
    "    \"\"\"finds all correct mul commands and do and don't commands\"\"\"\n",
    "    pattern = r'mul\\(\\d{1,3},\\d{1,3}\\)|do\\(\\)|don\\'t\\(\\)'\n",
    "    result = re.findall(pattern, puzzle_input)\n",
    "    log.info(f'found {len(result)} matches')\n",
    "    return result"
   ]
  },
  {
   "cell_type": "code",
   "execution_count": 41,
   "metadata": {},
   "outputs": [
    {
     "name": "stderr",
     "output_type": "stream",
     "text": [
      "INFO:day 3:found 6 matches\n",
      "DEBUG:day 3:evaluating: command='mul(2,4)'\n",
      "DEBUG:day 3:total updated: 8\n",
      "DEBUG:day 3:evaluating: command=\"don't()\"\n",
      "DEBUG:day 3:commands disabled\n",
      "DEBUG:day 3:evaluating: command='mul(5,5)'\n",
      "DEBUG:day 3:command skipped\n",
      "DEBUG:day 3:evaluating: command='mul(11,8)'\n",
      "DEBUG:day 3:command skipped\n",
      "DEBUG:day 3:evaluating: command='do()'\n",
      "DEBUG:day 3:commands enabled\n",
      "DEBUG:day 3:evaluating: command='mul(8,5)'\n",
      "DEBUG:day 3:total updated: 48\n",
      "INFO:day 3:6 commands evaluated\n"
     ]
    }
   ],
   "source": [
    "def evaluate_commands(commands: list[str]) -> int:\n",
    "    \"\"\"\n",
    "    evaluates mul commands unless preceeded by a `don't` command. `don't`s can\n",
    "    be nullifed by `do`s\n",
    "    \"\"\"\n",
    "    total = 0\n",
    "    do = True\n",
    "    for command in commands:\n",
    "        log.debug(f'evaluating: {command=}')\n",
    "        if command.startswith('mul'):\n",
    "            if not do:\n",
    "                log.debug('command skipped')\n",
    "                continue\n",
    "            a, b = command[4:-1].split(',')  # get rid of 'mul(' and ')'\n",
    "            total += int(a) * int(b)\n",
    "            log.debug(f'total updated: {total}')\n",
    "        elif command.startswith('don\\'t'):\n",
    "            do = False\n",
    "            log.debug('commands disabled')\n",
    "        elif command.startswith('do'):\n",
    "            log.debug('commands enabled')\n",
    "            do = True\n",
    "    log.info(f'{len(commands)} commands evaluated')\n",
    "    return total\n",
    "    \n",
    "log.setLevel(logging.DEBUG)\n",
    "test_str = \\\n",
    "    \"xmul(2,4)&mul[3,7]!^don't()_mul(5,5)+mul(32,64](mul(11,8)undo()?mul(8,5))\"\n",
    "test_commands = find_commands(test_str)\n",
    "test_total = evaluate_commands(test_commands)\n",
    "log.setLevel(logging.INFO)"
   ]
  },
  {
   "cell_type": "code",
   "execution_count": 43,
   "metadata": {},
   "outputs": [
    {
     "name": "stderr",
     "output_type": "stream",
     "text": [
      "INFO:day 3:found 816 matches\n",
      "INFO:day 3:816 commands evaluated\n"
     ]
    },
    {
     "data": {
      "text/markdown": [
       "The new total considering do's and don'ts is: 89798695"
      ],
      "text/plain": [
       "<IPython.core.display.Markdown object>"
      ]
     },
     "metadata": {},
     "output_type": "display_data"
    }
   ],
   "source": [
    "# cool looks like that works so let's solve!\n",
    "commands = find_commands(puzzle_input)\n",
    "total = evaluate_commands(commands)\n",
    "markdown(f'The new total considering do\\'s and don\\'ts is: {total}')"
   ]
  }
 ],
 "metadata": {
  "kernelspec": {
   "display_name": ".venv",
   "language": "python",
   "name": "python3"
  },
  "language_info": {
   "codemirror_mode": {
    "name": "ipython",
    "version": 3
   },
   "file_extension": ".py",
   "mimetype": "text/x-python",
   "name": "python",
   "nbconvert_exporter": "python",
   "pygments_lexer": "ipython3",
   "version": "3.12.0"
  }
 },
 "nbformat": 4,
 "nbformat_minor": 2
}

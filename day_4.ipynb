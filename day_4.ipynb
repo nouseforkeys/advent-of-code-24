{
 "cells": [
  {
   "cell_type": "markdown",
   "metadata": {},
   "source": [
    "# Day 4\n",
    "\n",
    "## part 1\n",
    "\n",
    "- Find all the `XMAS`es in the grid. They can be:\n",
    "    - horizontal\n",
    "    - vertical\n",
    "    - diagonal\n",
    "    - backwards"
   ]
  },
  {
   "cell_type": "code",
   "execution_count": 105,
   "metadata": {},
   "outputs": [],
   "source": [
    "import logging\n",
    "\n",
    "from matplotlib import pyplot as plt\n",
    "\n",
    "from advent_of_code_utils.advent_of_code_utils import (\n",
    "    parse_from_file, ParseConfig as PC, markdown, plot_grid\n",
    ")\n",
    "\n",
    "log = logging.getLogger('day 4')\n",
    "logging.basicConfig(level=logging.INFO)"
   ]
  },
  {
   "cell_type": "code",
   "execution_count": 106,
   "metadata": {},
   "outputs": [
    {
     "name": "stdout",
     "output_type": "stream",
     "text": [
      "MMMSXXMASM\n",
      "MSAMXMSMSA\n",
      "AMXSXMAAMM\n",
      "MSAMASMSMX\n",
      "XMASAMXAMM\n",
      "XXAMMXXAMA\n",
      "SMSMSASXSS\n",
      "SAXAMASAAA\n",
      "MAMMMXMMMM\n",
      "MXMXAXMASX\n"
     ]
    }
   ],
   "source": [
    "with open('day_4_example.txt') as file:\n",
    "    example = [line.strip() for line in file.readlines()]\n",
    "\n",
    "for line in example:\n",
    "    print(line)"
   ]
  },
  {
   "cell_type": "code",
   "execution_count": 107,
   "metadata": {},
   "outputs": [
    {
     "data": {
      "image/png": "[encoded data removed]",
      "text/plain": [
       "<Figure size 640x480 with 1 Axes>"
      ]
     },
     "metadata": {},
     "output_type": "display_data"
    }
   ],
   "source": [
    "lut = {\n",
    "    '.': 0, 'X': 11, 'M': 12, 'A': 13, 'S': 14\n",
    "}\n",
    "\n",
    "def create_plot(puzzle_input: list[str], title: str):\n",
    "    \"\"\"encodes chars to create visual plot\"\"\"\n",
    "\n",
    "    plottable = [[lut[c] for c in line] for line in puzzle_input]\n",
    "\n",
    "    fig, ax = plt.subplots()\n",
    "    plot_grid(plottable, ax)\n",
    "\n",
    "    ax.set_title(title)\n",
    "\n",
    "create_plot(example, 'Here\\'s what we\\'re up against')"
   ]
  },
  {
   "cell_type": "code",
   "execution_count": 108,
   "metadata": {},
   "outputs": [
    {
     "name": "stderr",
     "output_type": "stream",
     "text": [
      "INFO:day 4:XMAS found at (0, 4) going SE\n",
      "INFO:day 4:XMAS found at (0, 5) going E\n",
      "INFO:day 4:XMAS found at (1, 4) going W\n",
      "INFO:day 4:XMAS found at (3, 9) going S\n",
      "INFO:day 4:XMAS found at (3, 9) going SW\n",
      "INFO:day 4:XMAS found at (4, 0) going E\n",
      "INFO:day 4:XMAS found at (4, 6) going W\n",
      "INFO:day 4:XMAS found at (4, 6) going N\n",
      "INFO:day 4:XMAS found at (5, 0) going NE\n",
      "INFO:day 4:XMAS found at (5, 6) going NW\n",
      "INFO:day 4:XMAS found at (9, 1) going NE\n",
      "INFO:day 4:XMAS found at (9, 3) going NW\n",
      "INFO:day 4:XMAS found at (9, 3) going NE\n",
      "INFO:day 4:XMAS found at (9, 5) going E\n",
      "INFO:day 4:XMAS found at (9, 5) going NW\n",
      "INFO:day 4:XMAS found at (9, 5) going NE\n",
      "INFO:day 4:XMAS found at (9, 9) going NW\n",
      "INFO:day 4:XMAS found at (9, 9) going N\n",
      "INFO:day 4:found 18 XMAS's\n"
     ]
    },
    {
     "data": {
      "image/png": "[encoded data removed]",
      "text/plain": [
       "<Figure size 640x480 with 1 Axes>"
      ]
     },
     "metadata": {},
     "output_type": "display_data"
    }
   ],
   "source": [
    "# something for later!\n",
    "offsets = {\n",
    "    'E': (0, 1),\n",
    "    'SE': (1, 1),\n",
    "    'S': (1, 0),\n",
    "    'SW': (1, -1),\n",
    "    'W': (0, -1),\n",
    "    'NW': (-1, -1),\n",
    "    'N': (-1, 0),\n",
    "    'NE': (-1, 1),\n",
    "}\n",
    "\n",
    "# anyway! let's see if we can get the example number (18) before continuing\n",
    "def count_xmas(puzzle_input: list[str]) -> int:\n",
    "    \"\"\"returns the number of 'XMAS'es in the puzzle input\"\"\"\n",
    "    # 1. find Xs\n",
    "    # 2. check all directions for XMAS\n",
    "    # 3. ...\n",
    "    # 4. profit!\n",
    "\n",
    "    results = []\n",
    "    for line_index, line in enumerate(puzzle_input):\n",
    "        for char_index, char in enumerate(line):\n",
    "            if not char == 'X':\n",
    "                continue\n",
    "            log.debug(f'found X at ({line_index}, {char_index})')\n",
    "            for direction in offsets:\n",
    "                if check_direction(\n",
    "                    puzzle_input, line_index, char_index, direction\n",
    "                ):\n",
    "                    results.append(((line_index, char_index), direction))\n",
    "                    log.info(\n",
    "                        f'XMAS found at ({line_index}, {char_index}) '\n",
    "                        f'going {direction}')\n",
    "\n",
    "    log.info(f'found {len(results)} XMAS\\'s')\n",
    "    return results\n",
    "\n",
    "def check_direction(\n",
    "        puzzle_input: list[str], line: int, char: int, direction: str) -> bool:\n",
    "    \"\"\"returns whether there's an XMAS in that direction from that location\"\"\"\n",
    "    log.debug(f'testing {direction}')\n",
    "    line_index, char_index = line, char\n",
    "    line_offset, char_offset = offsets[direction]\n",
    "    result = ''\n",
    "    check = 'XMAS'\n",
    "    for _ in check:\n",
    "        # bounds checks\n",
    "        if not 0 <= line_index < len(puzzle_input):\n",
    "            break\n",
    "        if not 0 <= char_index < len(puzzle_input[0]):\n",
    "            break\n",
    "        result += puzzle_input[line_index][char_index]\n",
    "        line_index += line_offset\n",
    "        char_index += char_offset\n",
    "    log.debug(f'{result=}')\n",
    "    return result == check\n",
    "\n",
    "\n",
    "def create_result_plot(\n",
    "        puzzle_input: list[str], results: list[tuple], title: str) -> None:\n",
    "    \"\"\"shows us the results of a solved xmas-word\"\"\"\n",
    "    solved = [['.' for char in line] for line in puzzle_input]\n",
    "    for start, direction in results:\n",
    "        line_index, char_index = start\n",
    "        line_offset, char_offset = offsets[direction]\n",
    "        for _ in 'XMAS':\n",
    "            solved[line_index][char_index] = \\\n",
    "                puzzle_input[line_index][char_index]\n",
    "            line_index += line_offset\n",
    "            char_index += char_offset\n",
    "    create_plot(solved, title)\n",
    "\n",
    "log.setLevel(logging.INFO)\n",
    "example_results = count_xmas(example)\n",
    "create_result_plot(example, example_results, 'Found you!')"
   ]
  },
  {
   "cell_type": "code",
   "execution_count": 109,
   "metadata": {},
   "outputs": [],
   "source": [
    "# ok that works let's solve!\n",
    "with open('day_4.txt') as file:\n",
    "    puzzle_input = [line.strip() for line in file.readlines()]\n",
    "\n",
    "log.setLevel(logging.WARNING)\n",
    "results = count_xmas(puzzle_input)"
   ]
  },
  {
   "cell_type": "code",
   "execution_count": 111,
   "metadata": {},
   "outputs": [
    {
     "data": {
      "image/png": "[encoded data removed]",
      "text/plain": [
       "<Figure size 640x480 with 1 Axes>"
      ]
     },
     "metadata": {},
     "output_type": "display_data"
    }
   ],
   "source": [
    "create_result_plot(puzzle_input, results, 'There they are!')"
   ]
  },
  {
   "cell_type": "code",
   "execution_count": null,
   "metadata": {},
   "outputs": [
    {
     "data": {
      "text/markdown": [
       "Found 2414 XMAS's!"
      ],
      "text/plain": [
       "<IPython.core.display.Markdown object>"
      ]
     },
     "metadata": {},
     "output_type": "display_data"
    }
   ],
   "source": [
    "markdown(f'Found {len(results)} XMAS\\'s!')"
   ]
  }
 ],
 "metadata": {
  "kernelspec": {
   "display_name": ".venv",
   "language": "python",
   "name": "python3"
  },
  "language_info": {
   "codemirror_mode": {
    "name": "ipython",
    "version": 3
   },
   "file_extension": ".py",
   "mimetype": "text/x-python",
   "name": "python",
   "nbconvert_exporter": "python",
   "pygments_lexer": "ipython3",
   "version": "3.12.0"
  }
 },
 "nbformat": 4,
 "nbformat_minor": 2
}

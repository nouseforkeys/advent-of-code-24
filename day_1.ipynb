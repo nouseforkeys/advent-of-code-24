{
 "cells": [
  {
   "cell_type": "markdown",
   "metadata": {},
   "source": [
    "# Day 1\n",
    "\n",
    "- sort the numbers in 2 lists from small -> big and then pair them up\n",
    "- add up the sum of the differences"
   ]
  },
  {
   "cell_type": "code",
   "execution_count": 6,
   "metadata": {},
   "outputs": [],
   "source": [
    "import logging\n",
    "\n",
    "from advent_of_code_utils.advent_of_code_utils import (\n",
    "    ParseConfig as PC, parse_from_file, markdown\n",
    ")\n",
    "\n",
    "log = logging.getLogger('day 1')\n",
    "logging.basicConfig(level=logging.INFO)"
   ]
  },
  {
   "cell_type": "code",
   "execution_count": 7,
   "metadata": {},
   "outputs": [
    {
     "name": "stderr",
     "output_type": "stream",
     "text": [
      "INFO:advent_of_code_utils.py:1000 items loaded from \"day_1.txt\"\n"
     ]
    }
   ],
   "source": [
    "parser = PC('\\n', PC('   ', int))\n",
    "puzzle_input = parse_from_file('day_1.txt', parser)"
   ]
  },
  {
   "cell_type": "code",
   "execution_count": 8,
   "metadata": {},
   "outputs": [
    {
     "name": "stderr",
     "output_type": "stream",
     "text": [
      "INFO:day 1:first few on the left: [10071, 10392, 10410]\n",
      "INFO:day 1:first few on the right: [10006, 10137, 10243]\n"
     ]
    }
   ],
   "source": [
    "left = sorted([l for l, _ in puzzle_input])\n",
    "right = sorted([r for _, r in puzzle_input])\n",
    "\n",
    "log.info(f'first few on the left: {left[:3]}')\n",
    "log.info(f'first few on the right: {right[:3]}')"
   ]
  },
  {
   "cell_type": "code",
   "execution_count": 9,
   "metadata": {},
   "outputs": [
    {
     "name": "stderr",
     "output_type": "stream",
     "text": [
      "INFO:day 1:total distance found!\n"
     ]
    },
    {
     "data": {
      "text/markdown": [
       "The total distance of the sorted lists is: 3714264"
      ],
      "text/plain": [
       "<IPython.core.display.Markdown object>"
      ]
     },
     "metadata": {},
     "output_type": "display_data"
    }
   ],
   "source": [
    "distances = [abs(l - r) for l, r in zip(left, right)]\n",
    "total_distance = sum(distances)\n",
    "log.info('total distance found!')\n",
    "markdown(f'The total distance of the sorted lists is: {total_distance}')"
   ]
  },
  {
   "cell_type": "markdown",
   "metadata": {},
   "source": [
    "## Part 2\n",
    "\n",
    "- Count how many times the each `left` number appears on the `right`\n",
    "- Multiply that by its value\n",
    "- Sum these products to get a new similarity score"
   ]
  },
  {
   "cell_type": "code",
   "execution_count": 11,
   "metadata": {},
   "outputs": [
    {
     "name": "stderr",
     "output_type": "stream",
     "text": [
      "INFO:day 1:total similarity found!\n"
     ]
    },
    {
     "data": {
      "text/markdown": [
       "The total similarity is: 18805872"
      ],
      "text/plain": [
       "<IPython.core.display.Markdown object>"
      ]
     },
     "metadata": {},
     "output_type": "display_data"
    }
   ],
   "source": [
    "similarities = [l * right.count(l) for l in left]\n",
    "total_similarity = sum(similarities)\n",
    "log.info('total similarity found!')\n",
    "markdown(f'The total similarity is: {total_similarity}')"
   ]
  }
 ],
 "metadata": {
  "kernelspec": {
   "display_name": ".venv",
   "language": "python",
   "name": "python3"
  },
  "language_info": {
   "codemirror_mode": {
    "name": "ipython",
    "version": 3
   },
   "file_extension": ".py",
   "mimetype": "text/x-python",
   "name": "python",
   "nbconvert_exporter": "python",
   "pygments_lexer": "ipython3",
   "version": "3.12.0"
  }
 },
 "nbformat": 4,
 "nbformat_minor": 2
}

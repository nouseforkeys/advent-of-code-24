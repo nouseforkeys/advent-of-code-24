{
 "cells": [
  {
   "cell_type": "markdown",
   "metadata": {},
   "source": [
    "# Day 5\n",
    "\n",
    "## part 1\n",
    "\n",
    "- the first section lists some ordering info `X|Y` means `X` must be before `Y`\n",
    "- the second section has updates which must be checked against the ordering info.\n",
    "- The elves need the middle number of correctly ordered updates\n",
    "- Find their sum"
   ]
  },
  {
   "cell_type": "code",
   "execution_count": 13,
   "metadata": {},
   "outputs": [],
   "source": [
    "from dataclasses import dataclass\n",
    "import logging\n",
    "\n",
    "from advent_of_code_utils.advent_of_code_utils import (\n",
    "    parse_from_file, ParseConfig as PC, markdown\n",
    ")\n",
    "\n",
    "log = logging.getLogger('day 5')\n",
    "logging.basicConfig(level=logging.INFO)"
   ]
  },
  {
   "cell_type": "code",
   "execution_count": 14,
   "metadata": {},
   "outputs": [
    {
     "name": "stderr",
     "output_type": "stream",
     "text": [
      "INFO:advent_of_code_utils.py:2 items loaded from \"day_5_example.txt\"\n"
     ]
    }
   ],
   "source": [
    "parser = PC('\\n\\n', [\n",
    "    PC('\\n', PC('|', int)),  # first section\n",
    "    PC('\\n', PC(',', int)),  # second section\n",
    "])\n",
    "\n",
    "example_ordering, example_updates = \\\n",
    "    parse_from_file('day_5_example.txt', parser)\n",
    "\n",
    "log.info(f'{example_ordering=}')\n",
    "log.info(f'{example_updates=}')"
   ]
  },
  {
   "cell_type": "code",
   "execution_count": 15,
   "metadata": {},
   "outputs": [
    {
     "name": "stderr",
     "output_type": "stream",
     "text": [
      "DEBUG:day 5:Added new key=47\n",
      "DEBUG:day 5:New rule: Rule(before=47, after=53)\n",
      "DEBUG:day 5:Added new key=53\n",
      "DEBUG:day 5:New rule: Rule(before=47, after=53)\n",
      "DEBUG:day 5:Added new key=97\n",
      "DEBUG:day 5:New rule: Rule(before=97, after=13)\n",
      "DEBUG:day 5:Added new key=13\n",
      "DEBUG:day 5:New rule: Rule(before=97, after=13)\n",
      "DEBUG:day 5:New rule: Rule(before=97, after=61)\n",
      "DEBUG:day 5:Added new key=61\n",
      "DEBUG:day 5:New rule: Rule(before=97, after=61)\n",
      "DEBUG:day 5:New rule: Rule(before=97, after=47)\n",
      "DEBUG:day 5:New rule: Rule(before=97, after=47)\n",
      "DEBUG:day 5:Added new key=75\n",
      "DEBUG:day 5:New rule: Rule(before=75, after=29)\n",
      "DEBUG:day 5:Added new key=29\n",
      "DEBUG:day 5:New rule: Rule(before=75, after=29)\n",
      "DEBUG:day 5:New rule: Rule(before=61, after=13)\n",
      "DEBUG:day 5:New rule: Rule(before=61, after=13)\n",
      "DEBUG:day 5:New rule: Rule(before=75, after=53)\n",
      "DEBUG:day 5:New rule: Rule(before=75, after=53)\n",
      "DEBUG:day 5:New rule: Rule(before=29, after=13)\n",
      "DEBUG:day 5:New rule: Rule(before=29, after=13)\n",
      "DEBUG:day 5:New rule: Rule(before=97, after=29)\n",
      "DEBUG:day 5:New rule: Rule(before=97, after=29)\n",
      "DEBUG:day 5:New rule: Rule(before=53, after=29)\n",
      "DEBUG:day 5:New rule: Rule(before=53, after=29)\n",
      "DEBUG:day 5:New rule: Rule(before=61, after=53)\n",
      "DEBUG:day 5:New rule: Rule(before=61, after=53)\n",
      "DEBUG:day 5:New rule: Rule(before=97, after=53)\n",
      "DEBUG:day 5:New rule: Rule(before=97, after=53)\n",
      "DEBUG:day 5:New rule: Rule(before=61, after=29)\n",
      "DEBUG:day 5:New rule: Rule(before=61, after=29)\n",
      "DEBUG:day 5:New rule: Rule(before=47, after=13)\n",
      "DEBUG:day 5:New rule: Rule(before=47, after=13)\n",
      "DEBUG:day 5:New rule: Rule(before=75, after=47)\n",
      "DEBUG:day 5:New rule: Rule(before=75, after=47)\n",
      "DEBUG:day 5:New rule: Rule(before=97, after=75)\n",
      "DEBUG:day 5:New rule: Rule(before=97, after=75)\n",
      "DEBUG:day 5:New rule: Rule(before=47, after=61)\n",
      "DEBUG:day 5:New rule: Rule(before=47, after=61)\n",
      "DEBUG:day 5:New rule: Rule(before=75, after=61)\n",
      "DEBUG:day 5:New rule: Rule(before=75, after=61)\n",
      "DEBUG:day 5:New rule: Rule(before=47, after=29)\n",
      "DEBUG:day 5:New rule: Rule(before=47, after=29)\n",
      "DEBUG:day 5:New rule: Rule(before=75, after=13)\n",
      "DEBUG:day 5:New rule: Rule(before=75, after=13)\n",
      "DEBUG:day 5:New rule: Rule(before=53, after=13)\n",
      "DEBUG:day 5:New rule: Rule(before=53, after=13)\n",
      "INFO:day 5:created rules lookup for 7 values!\n"
     ]
    }
   ],
   "source": [
    "# cool the parser config works so lets test out a solution\n",
    "@dataclass\n",
    "class Rule:\n",
    "    before: int\n",
    "    after: int\n",
    "\n",
    "def get_rules(ordering: list[list[int]]) -> dict[int: Rule]:\n",
    "    \"\"\"returns a searchable dict of rule objects to look up by number\"\"\"\n",
    "    rules = {}\n",
    "    for before, after in ordering:\n",
    "        for key in (before, after):\n",
    "            if key not in rules:\n",
    "                rules.update({key: [Rule(before, after)]})\n",
    "                log.debug(f'Added new {key=}')\n",
    "            else:\n",
    "                rules[key].append(Rule(before, after))\n",
    "            log.debug(f'New rule: {rules[key][-1]}')\n",
    "    log.info(f'created rules lookup for {len(rules)} values!')\n",
    "    return rules\n",
    "\n",
    "log.setLevel(logging.DEBUG)\n",
    "example_rules = get_rules(example_ordering)"
   ]
  },
  {
   "cell_type": "code",
   "execution_count": 16,
   "metadata": {},
   "outputs": [
    {
     "name": "stderr",
     "output_type": "stream",
     "text": [
      "INFO:day 5:checking [75, 47, 61, 53, 29]\n",
      "INFO:day 5:GOOD: passed all rule checks\n",
      "INFO:day 5:checking [97, 61, 53, 29, 13]\n",
      "INFO:day 5:GOOD: passed all rule checks\n",
      "INFO:day 5:checking [75, 29, 13]\n",
      "INFO:day 5:GOOD: passed all rule checks\n",
      "INFO:day 5:checking [75, 97, 47, 61, 53]\n",
      "INFO:day 5:BAD: 97 found after 75!\n",
      "INFO:day 5:checking [61, 13, 29]\n",
      "INFO:day 5:BAD: 29 found after 13!\n",
      "INFO:day 5:checking [97, 13, 75, 29, 47]\n",
      "INFO:day 5:BAD: 29 found after 13!\n",
      "INFO:day 5:example_total=143\n"
     ]
    }
   ],
   "source": [
    "# cool now we can look up applicable rules as we check each value\n",
    "def check_ordering(update: list[int], rules: dict[int: Rule]) -> bool:\n",
    "    \"\"\"returns true if the ordering is correct\"\"\"\n",
    "    log.info(f'checking {update}')\n",
    "    for index, number in enumerate(update):\n",
    "        log.debug(f'checking {number=} at {index=}')\n",
    "        for rule in rules[number]:\n",
    "            log.debug(f'checking {rule}')\n",
    "            if rule.before == number:\n",
    "                if rule.after in update[:index]:\n",
    "                    log.info(f'BAD: {rule.after} found before {rule.before}!')\n",
    "                    return False\n",
    "            else:\n",
    "                if rule.before in update[index + 1:]:\n",
    "                    log.info(f'BAD: {rule.before} found after {rule.after}!')\n",
    "                    return False\n",
    "            log.debug('GOOD: Rule ok')\n",
    "    else:\n",
    "        log.info('GOOD: passed all rule checks')\n",
    "        return True\n",
    "\n",
    "log.setLevel(logging.INFO)\n",
    "example_total = 0\n",
    "for update in example_updates:\n",
    "    if check_ordering(update, example_rules):\n",
    "        example_total += update[len(update) // 2]\n",
    "\n",
    "log.info(f'{example_total=}')"
   ]
  },
  {
   "cell_type": "code",
   "execution_count": 17,
   "metadata": {},
   "outputs": [
    {
     "name": "stderr",
     "output_type": "stream",
     "text": [
      "INFO:advent_of_code_utils.py:2 items loaded from \"day_5.txt\"\n",
      "INFO:day 5:created rules lookup for 49 values!\n"
     ]
    },
    {
     "data": {
      "text/markdown": [
       "The total middle page number of correctly-ordered rules is: 7307"
      ],
      "text/plain": [
       "<IPython.core.display.Markdown object>"
      ]
     },
     "metadata": {},
     "output_type": "display_data"
    }
   ],
   "source": [
    "# ok let's do it for real!\n",
    "ordering, updates = parse_from_file('day_5.txt', parser)\n",
    "rules = get_rules(ordering)\n",
    "log.setLevel(logging.WARNING)\n",
    "total = 0\n",
    "for update in updates:\n",
    "    if check_ordering(update, rules):\n",
    "        total += update[len(update) // 2]\n",
    "markdown(\n",
    "    f'The total middle page number of correctly-ordered rules is: {total}')"
   ]
  },
  {
   "cell_type": "markdown",
   "metadata": {},
   "source": [
    "## part 2\n",
    "\n",
    "- fix the bad orders by applying the rules\n",
    "- move the first number directly after the second to fix the rule\n",
    "- recalculate the middle total for the corrected rules"
   ]
  },
  {
   "cell_type": "code",
   "execution_count": 18,
   "metadata": {},
   "outputs": [
    {
     "name": "stderr",
     "output_type": "stream",
     "text": [
      "INFO:day 5:checking [75, 47, 61, 53, 29]\n",
      "INFO:day 5:GOOD: passed all rule checks\n",
      "INFO:day 5:checking [97, 61, 53, 29, 13]\n",
      "INFO:day 5:GOOD: passed all rule checks\n",
      "INFO:day 5:checking [75, 29, 13]\n",
      "INFO:day 5:GOOD: passed all rule checks\n",
      "INFO:day 5:checking [75, 97, 47, 61, 53]\n",
      "INFO:day 5:BAD: 97 found after 75!\n",
      "INFO:day 5:fixing [75, 97, 47, 61, 53]\n",
      "INFO:day 5:checking [75, 97, 47, 61, 53]\n",
      "INFO:day 5:BAD: 97 found after 75!\n",
      "INFO:day 5:checking [97, 75, 47, 61, 53]\n",
      "INFO:day 5:GOOD: passed all rule checks\n",
      "INFO:day 5:update fixed: [97, 75, 47, 61, 53]\n",
      "INFO:day 5:checking [61, 13, 29]\n",
      "INFO:day 5:BAD: 29 found after 13!\n",
      "INFO:day 5:fixing [61, 13, 29]\n",
      "INFO:day 5:checking [61, 13, 29]\n",
      "INFO:day 5:BAD: 29 found after 13!\n",
      "INFO:day 5:checking [61, 29, 13]\n",
      "INFO:day 5:GOOD: passed all rule checks\n",
      "INFO:day 5:update fixed: [61, 29, 13]\n",
      "INFO:day 5:checking [97, 13, 75, 29, 47]\n",
      "INFO:day 5:BAD: 29 found after 13!\n",
      "INFO:day 5:fixing [97, 13, 75, 29, 47]\n",
      "INFO:day 5:checking [97, 13, 75, 29, 47]\n",
      "INFO:day 5:BAD: 29 found after 13!\n",
      "INFO:day 5:checking [97, 75, 29, 13, 47]\n",
      "INFO:day 5:BAD: 47 found after 29!\n",
      "INFO:day 5:checking [97, 75, 13, 47, 29]\n",
      "INFO:day 5:BAD: 29 found after 13!\n",
      "INFO:day 5:checking [97, 75, 47, 29, 13]\n",
      "INFO:day 5:GOOD: passed all rule checks\n",
      "INFO:day 5:update fixed: [97, 75, 47, 29, 13]\n",
      "INFO:day 5:fixed_example_total=123\n"
     ]
    }
   ],
   "source": [
    "def find_issue(update: list[int], rules: dict[int: Rule]) -> Rule | None:\n",
    "    \"\"\"returns the offending rule if present\"\"\"\n",
    "    log.info(f'checking {update}')\n",
    "    for index, number in enumerate(update):\n",
    "        log.debug(f'checking {number=} at {index=}')\n",
    "        for rule in rules[number]:\n",
    "            log.debug(f'checking {rule}')\n",
    "            if rule.before == number:\n",
    "                if rule.after in update[:index]:\n",
    "                    log.info(f'BAD: {rule.after} found before {rule.before}!')\n",
    "                    return rule\n",
    "            else:\n",
    "                if rule.before in update[index + 1:]:\n",
    "                    log.info(f'BAD: {rule.before} found after {rule.after}!')\n",
    "                    return rule\n",
    "            log.debug('GOOD: Rule ok')\n",
    "    else:\n",
    "        log.info('GOOD: passed all rule checks')\n",
    "        return None\n",
    "\n",
    "def fix_update(update: list[int], rules: dict[int: Rule]) -> list[int]:\n",
    "    \"\"\"returns a fixed rule\"\"\"\n",
    "    log.info(f'fixing {update}')\n",
    "    temp = [p for p in update]\n",
    "    to_fix = find_issue(temp, rules)\n",
    "    while to_fix is not None:\n",
    "        log.debug(f'sorting rule: {to_fix}')\n",
    "        after = temp.pop(temp.index(to_fix.after))\n",
    "        log.debug(f'{after} removed: {temp}')\n",
    "        temp.insert(temp.index(to_fix.before) + 1, after)\n",
    "        log.debug(f'New update: {temp}')\n",
    "        to_fix = find_issue(temp, rules)\n",
    "    log.info(f'update fixed: {temp}')\n",
    "    return temp\n",
    "    \n",
    "log.setLevel(logging.INFO)\n",
    "fixed_example_total = 0\n",
    "for update in example_updates:\n",
    "    if not check_ordering(update, example_rules):\n",
    "        fixed = fix_update(update, example_rules)\n",
    "        fixed_example_total += fixed[len(fixed) // 2]\n",
    "\n",
    "log.info(f'{fixed_example_total=}')\n"
   ]
  },
  {
   "cell_type": "code",
   "execution_count": 19,
   "metadata": {},
   "outputs": [
    {
     "data": {
      "text/markdown": [
       "The total middle values of fixed updates is: 4713"
      ],
      "text/plain": [
       "<IPython.core.display.Markdown object>"
      ]
     },
     "metadata": {},
     "output_type": "display_data"
    }
   ],
   "source": [
    "# cool that works too - let's solve!\n",
    "log.setLevel(logging.WARNING)\n",
    "fixed_total = 0\n",
    "for update in updates:\n",
    "    if not check_ordering(update, rules):\n",
    "        fixed = fix_update(update, rules)\n",
    "        fixed_total += fixed[len(fixed) // 2]\n",
    "\n",
    "markdown(\n",
    "    f'The total middle values of fixed updates is: {fixed_total}'\n",
    ")"
   ]
  }
 ],
 "metadata": {
  "kernelspec": {
   "display_name": ".venv",
   "language": "python",
   "name": "python3"
  },
  "language_info": {
   "codemirror_mode": {
    "name": "ipython",
    "version": 3
   },
   "file_extension": ".py",
   "mimetype": "text/x-python",
   "name": "python",
   "nbconvert_exporter": "python",
   "pygments_lexer": "ipython3",
   "version": "3.12.0"
  }
 },
 "nbformat": 4,
 "nbformat_minor": 2
}

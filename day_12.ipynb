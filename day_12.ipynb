{
 "cells": [
  {
   "cell_type": "markdown",
   "metadata": {},
   "source": [
    "# Day 12\n",
    "\n",
    "## part 1\n",
    "\n",
    "- Crops are arranged in different regions\n",
    "- The price is the product of the area and perimiter of each region\n",
    "- Find the total price"
   ]
  },
  {
   "cell_type": "code",
   "execution_count": 161,
   "metadata": {},
   "outputs": [],
   "source": [
    "from dataclasses import dataclass\n",
    "import logging\n",
    "\n",
    "from matplotlib import pyplot as plt\n",
    "\n",
    "from advent_of_code_utils.advent_of_code_utils import (\n",
    "    parse_from_file, ParseConfig as PC, markdown, plot_grid, Point2 as P\n",
    ")\n",
    "\n",
    "log = logging.getLogger('day 12')\n",
    "logging.basicConfig(level=logging.INFO)"
   ]
  },
  {
   "cell_type": "code",
   "execution_count": 162,
   "metadata": {},
   "outputs": [
    {
     "name": "stderr",
     "output_type": "stream",
     "text": [
      "INFO:advent_of_code_utils.py:10 items loaded from \"day_12_example.txt\"\n"
     ]
    },
    {
     "data": {
      "image/png": "[encoded data removed]",
      "text/plain": [
       "<Figure size 640x480 with 1 Axes>"
      ]
     },
     "metadata": {},
     "output_type": "display_data"
    }
   ],
   "source": [
    "# let's get the example working first\n",
    "parser = PC('\\n', str)\n",
    "grid = parse_from_file('day_12_example.txt', parser)\n",
    "\n",
    "def plot_regions(grid: list[str], ax) -> None:\n",
    "    \"\"\"converts regions to a grid of numbers for easy plotting\"\"\"\n",
    "    temp = [[ord(c) for c in line] for line in grid]\n",
    "    plot_grid(temp, ax)\n",
    "\n",
    "fig, ax = plt.subplots()\n",
    "ax.set_title('Look what just cropped up!')\n",
    "plot_regions(grid, ax)"
   ]
  },
  {
   "cell_type": "code",
   "execution_count": 163,
   "metadata": {},
   "outputs": [
    {
     "name": "stderr",
     "output_type": "stream",
     "text": [
      "INFO:day 12:graphed 100 tiles\n",
      "INFO:day 12:running until total_to_check=100\n",
      "INFO:day 12:the total number of fences required for the example is: 1930\n"
     ]
    }
   ],
   "source": [
    "@dataclass\n",
    "class Region:\n",
    "    crop: str\n",
    "    tiles: list[P]\n",
    "\n",
    "    def count_fences(self, graph: dict[P: list[P]]) -> int:\n",
    "        \"\"\"returns the number of fences required for the region\"\"\"\n",
    "        total = 4 * len(self.tiles)\n",
    "        for tile in self.tiles:\n",
    "            total -= len(graph[tile])\n",
    "        return total\n",
    "    \n",
    "    def get_cost(self, graph: dict[P: list[P]]) -> int:\n",
    "        \"\"\"returns the cost of all fences\"\"\"\n",
    "        return self.count_fences(graph) * len(self.tiles)\n",
    "\n",
    "def get_regions(grid: list[str]) -> int:\n",
    "    \"\"\"groups tiles together into regions\"\"\"\n",
    "    # create a graph\n",
    "    graph = {}\n",
    "    for l, line in enumerate(grid):\n",
    "        for c, char in enumerate(line):\n",
    "            point = P(l, c)\n",
    "            graph.update({point: []})\n",
    "            for adj in point.adjacent():\n",
    "                # bounds check\n",
    "                if not (0 <= adj.l < len(grid) and 0 <= adj.c < len(line)):\n",
    "                    continue\n",
    "                # crop check\n",
    "                if char != grid[adj.l][adj.c]:\n",
    "                    continue\n",
    "                # else\n",
    "                graph[point].append(adj)\n",
    "    # log.debug(f'{graph=}')\n",
    "    log.info(f'graphed {len(graph)} tiles')\n",
    "\n",
    "    cost = 0\n",
    "    checked = [[False]*len(line) for line in grid]\n",
    "    total_to_check = sum((len(line) for line in grid))\n",
    "    log.info(f'running until {total_to_check=}')\n",
    "    while not all((all(line) for line in checked)):\n",
    "        # find next unchecked point\n",
    "        start_next = None\n",
    "        for l, line in enumerate(grid):\n",
    "            for c, char in enumerate(line):\n",
    "                point = P(l, c)\n",
    "                if not checked[point.l][point.c]:\n",
    "                    start_next = point\n",
    "                    break\n",
    "            if start_next is not None:\n",
    "                break\n",
    "        if start_next is None:\n",
    "            break\n",
    "        # create a new region and final the other points in it\n",
    "        new_region = Region(grid[start_next.l][start_next.c], [start_next])\n",
    "        # get a list of tiles to test next\n",
    "        try_next = graph[start_next]\n",
    "        while len(try_next) > 0:\n",
    "            for tile in try_next:\n",
    "                if tile not in new_region.tiles:\n",
    "                    new_region.tiles.append(tile)\n",
    "            try_next = []\n",
    "            for tile in new_region.tiles:\n",
    "                for adj in graph[tile]:\n",
    "                    if adj not in new_region.tiles:\n",
    "                        try_next.append(adj)\n",
    "        # check off all the points in the region\n",
    "        for tile in new_region.tiles:\n",
    "            checked[tile.l][tile.c] = True\n",
    "        total = new_region.get_cost(graph)\n",
    "        cost += total\n",
    "    return cost\n",
    "\n",
    "log.setLevel(logging.INFO)\n",
    "total_fences = get_regions(grid)\n",
    "log.info(\n",
    "    f'the total number of fences required for the example is: {total_fences}')"
   ]
  },
  {
   "cell_type": "code",
   "execution_count": 164,
   "metadata": {},
   "outputs": [
    {
     "name": "stderr",
     "output_type": "stream",
     "text": [
      "INFO:advent_of_code_utils.py:140 items loaded from \"day_12.txt\"\n"
     ]
    },
    {
     "data": {
      "image/png": "[encoded data removed]",
      "text/plain": [
       "<Figure size 640x480 with 1 Axes>"
      ]
     },
     "metadata": {},
     "output_type": "display_data"
    }
   ],
   "source": [
    "# great that works let's try the real one\n",
    "grid = parse_from_file('day_12.txt', parser)\n",
    "fig, ax = plt.subplots()\n",
    "ax.set_title('Pick of the crop!')\n",
    "plot_regions(grid, ax)"
   ]
  },
  {
   "cell_type": "code",
   "execution_count": 165,
   "metadata": {},
   "outputs": [
    {
     "name": "stderr",
     "output_type": "stream",
     "text": [
      "INFO:day 12:graphed 19600 tiles\n",
      "INFO:day 12:running until total_to_check=19600\n"
     ]
    }
   ],
   "source": [
    "cost = get_regions(grid)"
   ]
  },
  {
   "cell_type": "code",
   "execution_count": 168,
   "metadata": {},
   "outputs": [
    {
     "data": {
      "text/markdown": [
       "the total number of fences required is: 1461752"
      ],
      "text/plain": [
       "<IPython.core.display.Markdown object>"
      ]
     },
     "metadata": {},
     "output_type": "display_data"
    }
   ],
   "source": [
    "markdown(f'the total number of fences required is: {cost}')"
   ]
  }
 ],
 "metadata": {
  "kernelspec": {
   "display_name": ".venv",
   "language": "python",
   "name": "python3"
  },
  "language_info": {
   "codemirror_mode": {
    "name": "ipython",
    "version": 3
   },
   "file_extension": ".py",
   "mimetype": "text/x-python",
   "name": "python",
   "nbconvert_exporter": "python",
   "pygments_lexer": "ipython3",
   "version": "3.12.0"
  }
 },
 "nbformat": 4,
 "nbformat_minor": 2
}

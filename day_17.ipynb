{
 "cells": [
  {
   "cell_type": "markdown",
   "metadata": {},
   "source": [
    "# Day 17\n",
    "\n",
    "## part 1\n",
    "\n",
    "- 3-bit computer with 3 registers, each which can hold any integer\n",
    "- 8 instructions:\n",
    "- instruction pointer starts at 0 and increments by 2 when not jumping\n",
    "- program halts the counter moves past the end of the program\n",
    "- operands can be literal or combo\n",
    "    - literal gives the value itself\n",
    "    - combo operands 0-3 are literals\n",
    "    - combo operands 4-6 map to `A`, `B`, `C`\n",
    "    - combo operand 7 is unot used\n",
    "\n",
    "Here are the opcodes\n",
    "\n",
    "|code|name|function|stored to|\n",
    "|---|---|---|---|\n",
    "|0|adv|divides the `A` register by $2^{x}$ where x is the combo operand, truncated to an int|`A`|\n",
    "|1|bxl|bitwise XOR of register B and the literal operand|(`B` % 8)|\n",
    "|2|bst|combo operand % 8|`B`|\n",
    "|3|jnz|nop if `A`==0. If `A`!=0 jumps to literal operand and instruction pointer is not incremented this time| |\n",
    "|4|bxc|bitwise XOR of `B` and `C`|`B`|\n",
    "|5|out|combo operand % 8|output|\n",
    "|6|bdv|as adv but for `B`|`B`|\n",
    "|7|cdv|as adv but for `C`|`C`|\n",
    "\n",
    "\n",
    "- Determine the program output as comma delimited values\n"
   ]
  },
  {
   "cell_type": "code",
   "execution_count": 46,
   "metadata": {},
   "outputs": [],
   "source": [
    "from dataclasses import dataclass\n",
    "import logging\n",
    "\n",
    "from advent_of_code_utils.advent_of_code_utils import (\n",
    "    parse_from_file, ParseConfig as PC, markdown\n",
    ")\n",
    "\n",
    "log = logging.getLogger('day 17')\n",
    "logging.basicConfig(level=logging.INFO)"
   ]
  },
  {
   "cell_type": "code",
   "execution_count": 47,
   "metadata": {},
   "outputs": [
    {
     "name": "stderr",
     "output_type": "stream",
     "text": [
      "INFO:advent_of_code_utils.py:2 items loaded from \"day_17_example.txt\"\n"
     ]
    }
   ],
   "source": [
    "@dataclass\n",
    "class Computer:\n",
    "    A: int\n",
    "    B: int\n",
    "    C: int\n",
    "    programme: list[int]\n",
    "    pointer: int = 0\n",
    "\n",
    "    def step(self) -> list[int] | None:\n",
    "        \"\"\"runs the next programme step\"\"\"\n",
    "        log.debug(f'{self}')\n",
    "        if self.pointer >= len(self.programme):\n",
    "            log.info('halt')\n",
    "            return None\n",
    "        opcode = self.programme[self.pointer]\n",
    "        operand = self.programme[self.pointer + 1]\n",
    "        log.debug(f'{opcode=}, {operand=}')\n",
    "        out = []\n",
    "        match opcode:\n",
    "            case 0:\n",
    "                self.adv(operand)\n",
    "                self.increment()\n",
    "            case 1:\n",
    "                self.bxl(operand)\n",
    "                self.increment()\n",
    "            case 2:\n",
    "                self.bst(operand)\n",
    "                self.increment()\n",
    "            case 3:\n",
    "                self.jnz(operand)\n",
    "            case 4:\n",
    "                self.bxc(operand)\n",
    "                self.increment()\n",
    "            case 5:\n",
    "                out.append(self.out(operand))\n",
    "                self.increment()\n",
    "            case 6:\n",
    "                self.bdv(operand)\n",
    "                self.increment()\n",
    "            case 7:\n",
    "                self.cdv(operand)\n",
    "                self.increment()\n",
    "            case _:\n",
    "                raise ValueError(f'opcode not recognised: {self}')\n",
    "        return out\n",
    "    \n",
    "    def increment(self) -> None:\n",
    "        \"\"\"increments the programme pointer\"\"\"\n",
    "        self.pointer += 2\n",
    "        log.debug('pointer: +2')\n",
    "\n",
    "    def combo(self, operand: int) -> int:\n",
    "        \"\"\"returns the combo operand value\"\"\"\n",
    "        reg_map = {4: self.A, 5: self.B, 6: self.C}\n",
    "        if operand in [0, 1, 2, 3]:\n",
    "            return operand\n",
    "        elif operand in reg_map:\n",
    "            return reg_map[operand]\n",
    "        else:\n",
    "            raise ValueError(f'Invalid combo operand: {self}')\n",
    "\n",
    "    def adv(self, operand: int) -> None:\n",
    "        numerator = self.A\n",
    "        denominator = pow(2, self.combo(operand))\n",
    "        self.A = numerator // denominator\n",
    "        log.debug(f'adv: {self.A}->A')\n",
    "    \n",
    "    def bdv(self, operand: int) -> None:\n",
    "        numerator = self.A\n",
    "        denominator = pow(2, self.combo(operand))\n",
    "        self.B = numerator // denominator\n",
    "        log.debug(f'bdv: {self.B}->B')\n",
    "    \n",
    "    def cdv(self, operand: int) -> None:\n",
    "        numerator = self.A\n",
    "        denominator = pow(2, self.combo(operand))\n",
    "        self.C = numerator // denominator\n",
    "        log.debug(f'cdv: {self.C}->C')\n",
    "\n",
    "    def bxl(self, operand: int) -> None:\n",
    "        self.B ^= operand\n",
    "        log.debug(f'bxl: {self.B}->B')\n",
    "    \n",
    "    def out(self, operand: int) -> int:\n",
    "        value = self.combo(operand) % 8\n",
    "        log.debug(f'out: {value}')\n",
    "        return value\n",
    "    \n",
    "    def bst(self, operand: int) -> None:\n",
    "        self.B = self.combo(operand) % 8\n",
    "        log.debug(f'bst: {self.B}->B')\n",
    "    \n",
    "    def jnz(self, operand: int) -> None:\n",
    "        if self.A == 0:\n",
    "            log.debug('jnz: A=0')\n",
    "            self.increment()\n",
    "        else:\n",
    "            log.debug(f'jnz: A!=0, pointer->{operand}')\n",
    "            self.pointer = operand\n",
    "    \n",
    "    def bxc(self, *args) -> None:\n",
    "        self.B ^= self.C\n",
    "        log.debug(f'bxc: {self.B}->B')\n",
    "\n",
    "parser = PC('\\n\\n', [\n",
    "    PC('\\n', PC(': ', [None, int])),  # registers\n",
    "    PC(': ', [None, PC(',', int)])  # program\n",
    "])\n",
    "registers, programme = \\\n",
    "    parse_from_file('day_17_example.txt', parser, unnest_single_items=True)\n",
    "computer = Computer(*registers, programme)"
   ]
  },
  {
   "cell_type": "code",
   "execution_count": 48,
   "metadata": {},
   "outputs": [
    {
     "name": "stderr",
     "output_type": "stream",
     "text": [
      "INFO:day 17:halt\n",
      "INFO:day 17:output=[4, 6, 3, 5, 6, 3, 5, 2, 1, 0]\n"
     ]
    }
   ],
   "source": [
    "log.setLevel(logging.INFO)\n",
    "log.debug(f'{computer=}')\n",
    "output = []\n",
    "while True:\n",
    "    temp = computer.step()\n",
    "    if temp is None:\n",
    "        break\n",
    "    else:\n",
    "        output.extend(temp)\n",
    "log.info(f'{output=}')"
   ]
  },
  {
   "cell_type": "code",
   "execution_count": 51,
   "metadata": {},
   "outputs": [
    {
     "name": "stderr",
     "output_type": "stream",
     "text": [
      "INFO:advent_of_code_utils.py:2 items loaded from \"day_17.txt\"\n",
      "INFO:day 17:halt\n"
     ]
    }
   ],
   "source": [
    "# great that looks like it works, lets run things for real\n",
    "log.setLevel(logging.INFO)\n",
    "registers, programme = \\\n",
    "    parse_from_file('day_17.txt', parser, unnest_single_items=True)\n",
    "computer = Computer(*registers, programme)\n",
    "output = []\n",
    "while True:\n",
    "    temp = computer.step()\n",
    "    if temp is None:\n",
    "        break\n",
    "    else:\n",
    "        output.extend(temp)"
   ]
  },
  {
   "cell_type": "code",
   "execution_count": 50,
   "metadata": {},
   "outputs": [
    {
     "data": {
      "text/markdown": [
       "The programme output is: 4,6,1,4,2,1,3,1,6"
      ],
      "text/plain": [
       "<IPython.core.display.Markdown object>"
      ]
     },
     "metadata": {},
     "output_type": "display_data"
    }
   ],
   "source": [
    "markdown(f'The programme output is: {','.join((str(v) for v in output))}')"
   ]
  },
  {
   "cell_type": "markdown",
   "metadata": {},
   "source": [
    "## part 2\n",
    "\n",
    "- the programe is supposed to output another programme\n",
    "- find the lowest initial value of A that produces the programme back"
   ]
  },
  {
   "cell_type": "markdown",
   "metadata": {},
   "source": [
    "Ok so a few things stand out already\n",
    "- the final instruction is `jnz(0)` so the program will only halt when `A=0`. Otherwise the programme pointer will be reset to 0.\n",
    "- this is the only `jnz` opcode so the programme will always just run its entirity without any branches each iteration.\n",
    "- The 2nd last instruction is `out(5)` which outputs `B` so again the behaviour should be pretty consistent.\n",
    "- the 3rd last instruciton is `adv(3)` so `A` is divided by 8 each time\n",
    "\n",
    "From this we can figure out the range of values for which `A` will ensure the correct number of outputs is added."
   ]
  },
  {
   "cell_type": "code",
   "execution_count": 52,
   "metadata": {},
   "outputs": [
    {
     "name": "stderr",
     "output_type": "stream",
     "text": [
      "INFO:day 17:len(computer.programme)=16\n"
     ]
    }
   ],
   "source": [
    "log.info(f'{len(computer.programme)=}')"
   ]
  },
  {
   "cell_type": "markdown",
   "metadata": {},
   "source": [
    "Since the programme is 16 digits long that means `A` must be != 0 for enough iterations to produce that many digits"
   ]
  },
  {
   "cell_type": "code",
   "execution_count": 60,
   "metadata": {},
   "outputs": [
    {
     "name": "stdout",
     "output_type": "stream",
     "text": [
      "digit=16 A range = [1, 8)\n",
      "digit=15 A range = [8, 64)\n",
      "digit=14 A range = [64, 512)\n",
      "digit=13 A range = [512, 4096)\n",
      "digit=12 A range = [4096, 32768)\n",
      "digit=11 A range = [32768, 262144)\n",
      "digit=10 A range = [262144, 2097152)\n",
      "digit=9 A range = [2097152, 16777216)\n",
      "digit=8 A range = [16777216, 134217728)\n",
      "digit=7 A range = [134217728, 1073741824)\n",
      "digit=6 A range = [1073741824, 8589934592)\n",
      "digit=5 A range = [8589934592, 68719476736)\n",
      "digit=4 A range = [68719476736, 549755813888)\n",
      "digit=3 A range = [549755813888, 4398046511104)\n",
      "digit=2 A range = [4398046511104, 35184372088832)\n",
      "digit=1 A range = [35184372088832, 281474976710656)\n"
     ]
    }
   ],
   "source": [
    "for digit, power in zip(reversed(range(1, 17)), range(16)):\n",
    "    print(f'{digit=}', f'A range = [{2**(power * 3)}, {2**((power + 1) * 3)})')"
   ]
  },
  {
   "cell_type": "code",
   "execution_count": 66,
   "metadata": {},
   "outputs": [
    {
     "name": "stderr",
     "output_type": "stream",
     "text": [
      "INFO:advent_of_code_utils.py:2 items loaded from \"day_17.txt\"\n",
      "INFO:day 17:Set A to 35184372088831\n",
      "INFO:day 17:halt\n",
      "INFO:day 17:len(output)=15\n",
      "INFO:day 17:output=[5, 5, 5, 5, 5, 5, 5, 5, 5, 5, 5, 5, 5, 2, 2]\n",
      "INFO:advent_of_code_utils.py:2 items loaded from \"day_17.txt\"\n",
      "INFO:day 17:Set A to 35184372088832\n",
      "INFO:day 17:halt\n",
      "INFO:day 17:len(output)=16\n",
      "INFO:day 17:output=[5, 5, 5, 5, 5, 5, 5, 5, 5, 5, 5, 5, 5, 5, 1, 5]\n",
      "INFO:advent_of_code_utils.py:2 items loaded from \"day_17.txt\"\n",
      "INFO:day 17:Set A to 281474976710655\n",
      "INFO:day 17:halt\n",
      "INFO:day 17:len(output)=16\n",
      "INFO:day 17:output=[5, 5, 5, 5, 5, 5, 5, 5, 5, 5, 5, 5, 5, 5, 2, 2]\n",
      "INFO:advent_of_code_utils.py:2 items loaded from \"day_17.txt\"\n",
      "INFO:day 17:Set A to 281474976710656\n",
      "INFO:day 17:halt\n",
      "INFO:day 17:len(output)=17\n",
      "INFO:day 17:output=[5, 5, 5, 5, 5, 5, 5, 5, 5, 5, 5, 5, 5, 5, 5, 1, 5]\n"
     ]
    }
   ],
   "source": [
    "# lets try inside and outside that range of values to be sure\n",
    "def load_and_run(initial_a: int = None) -> list[int]:\n",
    "    \"\"\"loads the programme and runs it swapping in an initial value of A\"\"\"\n",
    "\n",
    "    registers, programme = \\\n",
    "        parse_from_file('day_17.txt', parser, unnest_single_items=True)\n",
    "    computer = Computer(*registers, programme)\n",
    "    if initial_a is not None:\n",
    "        log.info(f'Set A to {initial_a}')\n",
    "        computer.A = initial_a\n",
    "    output = []\n",
    "    while True:\n",
    "        temp = computer.step()\n",
    "        if temp is None:\n",
    "            break\n",
    "        else:\n",
    "            output.extend(temp)\n",
    "    return output\n",
    "\n",
    "log.setLevel(logging.INFO)\n",
    "for value in (2**(3*15) - 1, 2**(3*15), 2**(3*16) - 1, 2**(3*16)):\n",
    "    output = load_and_run(value)\n",
    "    log.info(f'{len(output)=}')\n",
    "    log.info(f'{output=}')\n"
   ]
  },
  {
   "cell_type": "markdown",
   "metadata": {},
   "source": [
    "cool that narrows it down a bit. Next we just need to figure out what determines the value produced. We know its in `B` so let's see what happens to that register each iteration.\n",
    "The instructions that affect `B` are:\n",
    "- `bxl` (1)\n",
    "- `bst` (2)\n",
    "- `bxc` (4)\n",
    "- `bdv` (6)\n",
    "\n",
    "So going backwards the instructions that affect the output are:\n",
    "- `bxl(4)`\n",
    "- `bxc`\n",
    "- `cdv(5)` so `A` // $2^{C}$ -> C.\n",
    "- `bxl(1)` - `B` ^= 1\n",
    "- `bst(4)` - `B` = `A` % 8\n",
    "\n",
    "`bdv` appears to never be executed"
   ]
  },
  {
   "cell_type": "code",
   "execution_count": 69,
   "metadata": {},
   "outputs": [
    {
     "name": "stdout",
     "output_type": "stream",
     "text": [
      "[2, 4, 1, 1, 7, 5, 4, 6, 1, 4, 0, 3, 5, 5, 3, 0]\n"
     ]
    }
   ],
   "source": [
    "# log.setLevel(logging.INFO)\n",
    "\n",
    "# output = load_and_run(2**(3*15))\n",
    "# log.info(f'{output=}')\n",
    "print(computer.programme)"
   ]
  },
  {
   "cell_type": "markdown",
   "metadata": {},
   "source": [
    "So let's work backwards\n",
    "- out = (`B` % 8)\n",
    "- out = ((`B` % 8) ^ 4)\n",
    "- out = (((`B` % 8) ^ 4) ^ `C`)\n",
    "- out = (((`B` % 8) ^ 4) ^ (`A` // $2^C$))\n",
    "- out = ((((`B` % 8) ^ 1) ^ 4) ^ (`A` // $2^C$))\n",
    "- out = ((((`A` % 8) ^ 1) ^ 4) ^ (`A` // $2^C$))\n",
    "\n",
    "cool so `B` gets completely overwritten by `A` each time and is always set to a value between 0-7 by the first opcode so the"
   ]
  },
  {
   "cell_type": "markdown",
   "metadata": {},
   "source": [
    "From some testing it looks like adding values to different orders of magnitude affects specific digits - which makes sense as lower orders of magnitude are truncated earlier in the iterations.\n",
    "So we should be able to programatically solve by incrementing a set of offsets applied by increasing powers of $2^3$ until we get the required programme digit"
   ]
  },
  {
   "cell_type": "code",
   "execution_count": 105,
   "metadata": {},
   "outputs": [
    {
     "name": "stderr",
     "output_type": "stream",
     "text": [
      "WARNING:day 17:trying digit=15: offsets[digit]=0\n",
      "INFO:advent_of_code_utils.py:2 items loaded from \"day_17.txt\"\n",
      "WARNING:day 17:trying digit=15: offsets[digit]=1\n",
      "INFO:advent_of_code_utils.py:2 items loaded from \"day_17.txt\"\n",
      "WARNING:day 17:trying digit=15: offsets[digit]=2\n",
      "INFO:advent_of_code_utils.py:2 items loaded from \"day_17.txt\"\n",
      "WARNING:day 17:trying digit=15: offsets[digit]=3\n",
      "INFO:advent_of_code_utils.py:2 items loaded from \"day_17.txt\"\n",
      "WARNING:day 17:trying digit=15: offsets[digit]=4\n",
      "INFO:advent_of_code_utils.py:2 items loaded from \"day_17.txt\"\n",
      "WARNING:day 17:trying digit=14: offsets[digit]=0\n",
      "INFO:advent_of_code_utils.py:2 items loaded from \"day_17.txt\"\n",
      "WARNING:day 17:trying digit=14: offsets[digit]=1\n",
      "INFO:advent_of_code_utils.py:2 items loaded from \"day_17.txt\"\n",
      "WARNING:day 17:trying digit=14: offsets[digit]=2\n",
      "INFO:advent_of_code_utils.py:2 items loaded from \"day_17.txt\"\n",
      "WARNING:day 17:trying digit=14: offsets[digit]=3\n",
      "INFO:advent_of_code_utils.py:2 items loaded from \"day_17.txt\"\n",
      "WARNING:day 17:trying digit=14: offsets[digit]=4\n",
      "INFO:advent_of_code_utils.py:2 items loaded from \"day_17.txt\"\n",
      "WARNING:day 17:trying digit=14: offsets[digit]=5\n",
      "INFO:advent_of_code_utils.py:2 items loaded from \"day_17.txt\"\n",
      "WARNING:day 17:trying digit=14: offsets[digit]=6\n",
      "INFO:advent_of_code_utils.py:2 items loaded from \"day_17.txt\"\n",
      "WARNING:day 17:trying digit=13: offsets[digit]=0\n",
      "INFO:advent_of_code_utils.py:2 items loaded from \"day_17.txt\"\n",
      "WARNING:day 17:trying digit=12: offsets[digit]=0\n",
      "INFO:advent_of_code_utils.py:2 items loaded from \"day_17.txt\"\n",
      "WARNING:day 17:trying digit=11: offsets[digit]=0\n",
      "INFO:advent_of_code_utils.py:2 items loaded from \"day_17.txt\"\n",
      "WARNING:day 17:trying digit=11: offsets[digit]=1\n",
      "INFO:advent_of_code_utils.py:2 items loaded from \"day_17.txt\"\n",
      "WARNING:day 17:trying digit=11: offsets[digit]=2\n",
      "INFO:advent_of_code_utils.py:2 items loaded from \"day_17.txt\"\n",
      "WARNING:day 17:trying digit=11: offsets[digit]=3\n",
      "INFO:advent_of_code_utils.py:2 items loaded from \"day_17.txt\"\n",
      "WARNING:day 17:trying digit=11: offsets[digit]=4\n",
      "INFO:advent_of_code_utils.py:2 items loaded from \"day_17.txt\"\n",
      "WARNING:day 17:trying digit=11: offsets[digit]=5\n",
      "INFO:advent_of_code_utils.py:2 items loaded from \"day_17.txt\"\n",
      "WARNING:day 17:trying digit=11: offsets[digit]=6\n",
      "INFO:advent_of_code_utils.py:2 items loaded from \"day_17.txt\"\n",
      "WARNING:day 17:trying digit=10: offsets[digit]=0\n",
      "INFO:advent_of_code_utils.py:2 items loaded from \"day_17.txt\"\n",
      "WARNING:day 17:trying digit=10: offsets[digit]=1\n",
      "INFO:advent_of_code_utils.py:2 items loaded from \"day_17.txt\"\n",
      "WARNING:day 17:trying digit=10: offsets[digit]=2\n",
      "INFO:advent_of_code_utils.py:2 items loaded from \"day_17.txt\"\n",
      "WARNING:day 17:trying digit=10: offsets[digit]=3\n",
      "INFO:advent_of_code_utils.py:2 items loaded from \"day_17.txt\"\n",
      "WARNING:day 17:trying digit=10: offsets[digit]=4\n",
      "INFO:advent_of_code_utils.py:2 items loaded from \"day_17.txt\"\n",
      "WARNING:day 17:trying digit=9: offsets[digit]=0\n",
      "INFO:advent_of_code_utils.py:2 items loaded from \"day_17.txt\"\n",
      "WARNING:day 17:trying digit=9: offsets[digit]=1\n",
      "INFO:advent_of_code_utils.py:2 items loaded from \"day_17.txt\"\n",
      "WARNING:day 17:trying digit=9: offsets[digit]=2\n",
      "INFO:advent_of_code_utils.py:2 items loaded from \"day_17.txt\"\n",
      "WARNING:day 17:trying digit=9: offsets[digit]=3\n",
      "INFO:advent_of_code_utils.py:2 items loaded from \"day_17.txt\"\n",
      "WARNING:day 17:trying digit=9: offsets[digit]=4\n",
      "INFO:advent_of_code_utils.py:2 items loaded from \"day_17.txt\"\n",
      "WARNING:day 17:trying digit=8: offsets[digit]=0\n",
      "INFO:advent_of_code_utils.py:2 items loaded from \"day_17.txt\"\n",
      "WARNING:day 17:trying digit=8: offsets[digit]=1\n",
      "INFO:advent_of_code_utils.py:2 items loaded from \"day_17.txt\"\n",
      "WARNING:day 17:trying digit=8: offsets[digit]=2\n",
      "INFO:advent_of_code_utils.py:2 items loaded from \"day_17.txt\"\n",
      "WARNING:day 17:trying digit=8: offsets[digit]=3\n",
      "INFO:advent_of_code_utils.py:2 items loaded from \"day_17.txt\"\n",
      "WARNING:day 17:trying digit=8: offsets[digit]=4\n",
      "INFO:advent_of_code_utils.py:2 items loaded from \"day_17.txt\"\n",
      "WARNING:day 17:trying digit=8: offsets[digit]=5\n",
      "INFO:advent_of_code_utils.py:2 items loaded from \"day_17.txt\"\n",
      "WARNING:day 17:trying digit=8: offsets[digit]=6\n",
      "INFO:advent_of_code_utils.py:2 items loaded from \"day_17.txt\"\n",
      "WARNING:day 17:trying digit=7: offsets[digit]=0\n",
      "INFO:advent_of_code_utils.py:2 items loaded from \"day_17.txt\"\n",
      "WARNING:day 17:trying digit=7: offsets[digit]=1\n",
      "INFO:advent_of_code_utils.py:2 items loaded from \"day_17.txt\"\n",
      "WARNING:day 17:trying digit=7: offsets[digit]=2\n",
      "INFO:advent_of_code_utils.py:2 items loaded from \"day_17.txt\"\n",
      "WARNING:day 17:trying digit=7: offsets[digit]=3\n",
      "INFO:advent_of_code_utils.py:2 items loaded from \"day_17.txt\"\n",
      "WARNING:day 17:trying digit=7: offsets[digit]=4\n",
      "INFO:advent_of_code_utils.py:2 items loaded from \"day_17.txt\"\n",
      "WARNING:day 17:trying digit=7: offsets[digit]=5\n",
      "INFO:advent_of_code_utils.py:2 items loaded from \"day_17.txt\"\n",
      "WARNING:day 17:trying digit=7: offsets[digit]=6\n",
      "INFO:advent_of_code_utils.py:2 items loaded from \"day_17.txt\"\n",
      "WARNING:day 17:trying digit=7: offsets[digit]=7\n",
      "INFO:advent_of_code_utils.py:2 items loaded from \"day_17.txt\"\n",
      "WARNING:day 17:trying digit=6: offsets[digit]=0\n",
      "INFO:advent_of_code_utils.py:2 items loaded from \"day_17.txt\"\n",
      "WARNING:day 17:trying digit=6: offsets[digit]=1\n",
      "INFO:advent_of_code_utils.py:2 items loaded from \"day_17.txt\"\n",
      "WARNING:day 17:trying digit=6: offsets[digit]=2\n",
      "INFO:advent_of_code_utils.py:2 items loaded from \"day_17.txt\"\n",
      "WARNING:day 17:trying digit=6: offsets[digit]=3\n",
      "INFO:advent_of_code_utils.py:2 items loaded from \"day_17.txt\"\n",
      "WARNING:day 17:trying digit=6: offsets[digit]=4\n",
      "INFO:advent_of_code_utils.py:2 items loaded from \"day_17.txt\"\n",
      "WARNING:day 17:trying digit=5: offsets[digit]=0\n",
      "INFO:advent_of_code_utils.py:2 items loaded from \"day_17.txt\"\n",
      "WARNING:day 17:trying digit=4: offsets[digit]=0\n",
      "INFO:advent_of_code_utils.py:2 items loaded from \"day_17.txt\"\n",
      "WARNING:day 17:trying digit=4: offsets[digit]=1\n",
      "INFO:advent_of_code_utils.py:2 items loaded from \"day_17.txt\"\n",
      "WARNING:day 17:trying digit=4: offsets[digit]=2\n",
      "INFO:advent_of_code_utils.py:2 items loaded from \"day_17.txt\"\n",
      "WARNING:day 17:trying digit=3: offsets[digit]=0\n",
      "INFO:advent_of_code_utils.py:2 items loaded from \"day_17.txt\"\n",
      "WARNING:day 17:trying digit=3: offsets[digit]=1\n",
      "INFO:advent_of_code_utils.py:2 items loaded from \"day_17.txt\"\n",
      "WARNING:day 17:trying digit=3: offsets[digit]=2\n",
      "INFO:advent_of_code_utils.py:2 items loaded from \"day_17.txt\"\n",
      "WARNING:day 17:trying digit=3: offsets[digit]=3\n",
      "INFO:advent_of_code_utils.py:2 items loaded from \"day_17.txt\"\n",
      "WARNING:day 17:trying digit=3: offsets[digit]=4\n",
      "INFO:advent_of_code_utils.py:2 items loaded from \"day_17.txt\"\n",
      "WARNING:day 17:trying digit=2: offsets[digit]=0\n",
      "INFO:advent_of_code_utils.py:2 items loaded from \"day_17.txt\"\n",
      "WARNING:day 17:trying digit=2: offsets[digit]=1\n",
      "INFO:advent_of_code_utils.py:2 items loaded from \"day_17.txt\"\n",
      "WARNING:day 17:trying digit=2: offsets[digit]=2\n",
      "INFO:advent_of_code_utils.py:2 items loaded from \"day_17.txt\"\n",
      "WARNING:day 17:trying digit=2: offsets[digit]=3\n",
      "INFO:advent_of_code_utils.py:2 items loaded from \"day_17.txt\"\n",
      "WARNING:day 17:trying digit=2: offsets[digit]=4\n",
      "INFO:advent_of_code_utils.py:2 items loaded from \"day_17.txt\"\n",
      "WARNING:day 17:trying digit=2: offsets[digit]=5\n",
      "INFO:advent_of_code_utils.py:2 items loaded from \"day_17.txt\"\n",
      "WARNING:day 17:trying digit=2: offsets[digit]=6\n",
      "INFO:advent_of_code_utils.py:2 items loaded from \"day_17.txt\"\n",
      "WARNING:day 17:trying digit=2: offsets[digit]=7\n",
      "INFO:advent_of_code_utils.py:2 items loaded from \"day_17.txt\"\n",
      "WARNING:day 17:trying digit=2: offsets[digit]=8\n",
      "INFO:advent_of_code_utils.py:2 items loaded from \"day_17.txt\"\n",
      "WARNING:day 17:trying digit=1: offsets[digit]=0\n",
      "INFO:advent_of_code_utils.py:2 items loaded from \"day_17.txt\"\n",
      "WARNING:day 17:trying digit=1: offsets[digit]=1\n",
      "INFO:advent_of_code_utils.py:2 items loaded from \"day_17.txt\"\n",
      "WARNING:day 17:trying digit=1: offsets[digit]=2\n",
      "INFO:advent_of_code_utils.py:2 items loaded from \"day_17.txt\"\n",
      "WARNING:day 17:trying digit=1: offsets[digit]=3\n",
      "INFO:advent_of_code_utils.py:2 items loaded from \"day_17.txt\"\n",
      "WARNING:day 17:trying digit=1: offsets[digit]=4\n",
      "INFO:advent_of_code_utils.py:2 items loaded from \"day_17.txt\"\n",
      "WARNING:day 17:trying digit=1: offsets[digit]=5\n",
      "INFO:advent_of_code_utils.py:2 items loaded from \"day_17.txt\"\n",
      "WARNING:day 17:trying digit=0: offsets[digit]=0\n",
      "INFO:advent_of_code_utils.py:2 items loaded from \"day_17.txt\"\n",
      "WARNING:day 17:trying digit=0: offsets[digit]=1\n",
      "INFO:advent_of_code_utils.py:2 items loaded from \"day_17.txt\"\n",
      "WARNING:day 17:trying digit=0: offsets[digit]=2\n",
      "INFO:advent_of_code_utils.py:2 items loaded from \"day_17.txt\"\n",
      "WARNING:day 17:succeeded with start=202366627359274\n"
     ]
    }
   ],
   "source": [
    "def find_a_value() -> int:\n",
    "    \"\"\"returns the value required to produce the programme back as output\"\"\"\n",
    "    offsets = [0]*len(computer.programme)\n",
    "    for digit in reversed(range(len(computer.programme))):\n",
    "        while True:\n",
    "            log.warning(f'trying {digit=}: {offsets[digit]=}')\n",
    "            start = 2**(3 * (len(computer.programme) - 1))\n",
    "            for index, value in enumerate(offsets):\n",
    "                start += value * 2**(3*index)\n",
    "\n",
    "            output = load_and_run(start)\n",
    "            log.info(f'{output=}')\n",
    "            if output[digit] == computer.programme[digit]:\n",
    "                break\n",
    "            # else\n",
    "            offsets[digit] += 1\n",
    "            if offsets[digit] > 2**3:\n",
    "                log.error('couldn\\'t find an offset')\n",
    "                return None\n",
    "    start = 2**(3 * (len(computer.programme) - 1))\n",
    "    for index, value in enumerate(offsets):\n",
    "        start += value * 2**(3*index)\n",
    "    log.warning(f'succeeded with {start=}')\n",
    "    return start\n",
    "\n",
    "log.setLevel(logging.WARNING)\n",
    "a_value = find_a_value()"
   ]
  },
  {
   "cell_type": "code",
   "execution_count": 106,
   "metadata": {},
   "outputs": [
    {
     "data": {
      "text/markdown": [
       "the A value required is: 202366627359274"
      ],
      "text/plain": [
       "<IPython.core.display.Markdown object>"
      ]
     },
     "metadata": {},
     "output_type": "display_data"
    }
   ],
   "source": [
    "markdown(f'the A value required is: {a_value}')"
   ]
  }
 ],
 "metadata": {
  "kernelspec": {
   "display_name": ".venv",
   "language": "python",
   "name": "python3"
  },
  "language_info": {
   "codemirror_mode": {
    "name": "ipython",
    "version": 3
   },
   "file_extension": ".py",
   "mimetype": "text/x-python",
   "name": "python",
   "nbconvert_exporter": "python",
   "pygments_lexer": "ipython3",
   "version": "3.12.0"
  }
 },
 "nbformat": 4,
 "nbformat_minor": 2
}

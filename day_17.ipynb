{
 "cells": [
  {
   "cell_type": "markdown",
   "metadata": {},
   "source": [
    "# Day 17\n",
    "\n",
    "## part 1\n",
    "\n",
    "- 3-bit computer with 3 registers, each which can hold any integer\n",
    "- 8 instructions:\n",
    "- instruction pointer starts at 0 and increments by 2 when not jumping\n",
    "- program halts the counter moves past the end of the program\n",
    "- operands can be literal or combo\n",
    "    - literal gives the value itself\n",
    "    - combo operands 0-3 are literals\n",
    "    - combo operands 4-6 map to `A`, `B`, `C`\n",
    "    - combo operand 7 is unot used\n",
    "\n",
    "Here are the opcodes\n",
    "\n",
    "|code|name|function|stored to|\n",
    "|---|---|---|---|\n",
    "|0|adv|divides the `A` register by $2^{x}$ where x is the combo operand, truncated to an int|`A`|\n",
    "|1|bxl|bitwise XOR of register B and the literal operand|`B`|\n",
    "|2|bst|combo operand % 8|`B`|\n",
    "|3|jnz|nop if `A`==0. If `A`!=0 jumps to literal operand and instruction pointer is not incremented this time| |\n",
    "|4|bxc|bitwise XOR of `B` and `C`|`B`|\n",
    "|5|out|combo operand % 8|output|\n",
    "|6|bdv|as adv but for `B`|`B`|\n",
    "|7|cdv|as adv but for `C`|`C`|\n",
    "\n",
    "\n",
    "- Determine the program output as comma delimited values\n"
   ]
  },
  {
   "cell_type": "code",
   "execution_count": 46,
   "metadata": {},
   "outputs": [],
   "source": [
    "from dataclasses import dataclass\n",
    "import logging\n",
    "\n",
    "from advent_of_code_utils.advent_of_code_utils import (\n",
    "    parse_from_file, ParseConfig as PC, markdown\n",
    ")\n",
    "\n",
    "log = logging.getLogger('day 17')\n",
    "logging.basicConfig(level=logging.INFO)"
   ]
  },
  {
   "cell_type": "code",
   "execution_count": 47,
   "metadata": {},
   "outputs": [
    {
     "name": "stderr",
     "output_type": "stream",
     "text": [
      "INFO:advent_of_code_utils.py:2 items loaded from \"day_17_example.txt\"\n"
     ]
    }
   ],
   "source": [
    "@dataclass\n",
    "class Computer:\n",
    "    A: int\n",
    "    B: int\n",
    "    C: int\n",
    "    programme: list[int]\n",
    "    pointer: int = 0\n",
    "\n",
    "    def step(self) -> list[int] | None:\n",
    "        \"\"\"runs the next programme step\"\"\"\n",
    "        log.debug(f'{self}')\n",
    "        if self.pointer >= len(self.programme):\n",
    "            log.info('halt')\n",
    "            return None\n",
    "        opcode = self.programme[self.pointer]\n",
    "        operand = self.programme[self.pointer + 1]\n",
    "        log.debug(f'{opcode=}, {operand=}')\n",
    "        out = []\n",
    "        match opcode:\n",
    "            case 0:\n",
    "                self.adv(operand)\n",
    "                self.increment()\n",
    "            case 1:\n",
    "                self.bxl(operand)\n",
    "                self.increment()\n",
    "            case 2:\n",
    "                self.bst(operand)\n",
    "                self.increment()\n",
    "            case 3:\n",
    "                self.jnz(operand)\n",
    "            case 4:\n",
    "                self.bxc(operand)\n",
    "                self.increment()\n",
    "            case 5:\n",
    "                out.append(self.out(operand))\n",
    "                self.increment()\n",
    "            case 6:\n",
    "                self.bdv(operand)\n",
    "                self.increment()\n",
    "            case 7:\n",
    "                self.cdv(operand)\n",
    "                self.increment()\n",
    "            case _:\n",
    "                raise ValueError(f'opcode not recognised: {self}')\n",
    "        return out\n",
    "    \n",
    "    def increment(self) -> None:\n",
    "        \"\"\"increments the programme pointer\"\"\"\n",
    "        self.pointer += 2\n",
    "        log.debug('pointer: +2')\n",
    "\n",
    "    def combo(self, operand: int) -> int:\n",
    "        \"\"\"returns the combo operand value\"\"\"\n",
    "        reg_map = {4: self.A, 5: self.B, 6: self.C}\n",
    "        if operand in [0, 1, 2, 3]:\n",
    "            return operand\n",
    "        elif operand in reg_map:\n",
    "            return reg_map[operand]\n",
    "        else:\n",
    "            raise ValueError(f'Invalid combo operand: {self}')\n",
    "\n",
    "    def adv(self, operand: int) -> None:\n",
    "        numerator = self.A\n",
    "        denominator = pow(2, self.combo(operand))\n",
    "        self.A = numerator // denominator\n",
    "        log.debug(f'adv: {self.A}->A')\n",
    "    \n",
    "    def bdv(self, operand: int) -> None:\n",
    "        numerator = self.A\n",
    "        denominator = pow(2, self.combo(operand))\n",
    "        self.B = numerator // denominator\n",
    "        log.debug(f'bdv: {self.B}->B')\n",
    "    \n",
    "    def cdv(self, operand: int) -> None:\n",
    "        numerator = self.A\n",
    "        denominator = pow(2, self.combo(operand))\n",
    "        self.C = numerator // denominator\n",
    "        log.debug(f'cdv: {self.C}->C')\n",
    "\n",
    "    def bxl(self, operand: int) -> None:\n",
    "        self.B ^= operand\n",
    "        log.debug(f'bxl: {self.B}->B')\n",
    "    \n",
    "    def out(self, operand: int) -> int:\n",
    "        value = self.combo(operand) % 8\n",
    "        log.debug(f'out: {value}')\n",
    "        return value\n",
    "    \n",
    "    def bst(self, operand: int) -> None:\n",
    "        self.B = self.combo(operand) % 8\n",
    "        log.debug(f'bst: {self.B}->B')\n",
    "    \n",
    "    def jnz(self, operand: int) -> None:\n",
    "        if self.A == 0:\n",
    "            log.debug('jnz: A=0')\n",
    "            self.increment()\n",
    "        else:\n",
    "            log.debug(f'jnz: A!=0, pointer->{operand}')\n",
    "            self.pointer = operand\n",
    "    \n",
    "    def bxc(self, *args) -> None:\n",
    "        self.B ^= self.C\n",
    "        log.debug(f'bxc: {self.B}->B')\n",
    "\n",
    "parser = PC('\\n\\n', [\n",
    "    PC('\\n', PC(': ', [None, int])),  # registers\n",
    "    PC(': ', [None, PC(',', int)])  # program\n",
    "])\n",
    "registers, programme = \\\n",
    "    parse_from_file('day_17_example.txt', parser, unnest_single_items=True)\n",
    "computer = Computer(*registers, programme)"
   ]
  },
  {
   "cell_type": "code",
   "execution_count": 48,
   "metadata": {},
   "outputs": [
    {
     "name": "stderr",
     "output_type": "stream",
     "text": [
      "INFO:day 17:halt\n",
      "INFO:day 17:output=[4, 6, 3, 5, 6, 3, 5, 2, 1, 0]\n"
     ]
    }
   ],
   "source": [
    "log.setLevel(logging.INFO)\n",
    "log.debug(f'{computer=}')\n",
    "output = []\n",
    "while True:\n",
    "    temp = computer.step()\n",
    "    if temp is None:\n",
    "        break\n",
    "    else:\n",
    "        output.extend(temp)\n",
    "log.info(f'{output=}')"
   ]
  },
  {
   "cell_type": "code",
   "execution_count": 51,
   "metadata": {},
   "outputs": [
    {
     "name": "stderr",
     "output_type": "stream",
     "text": [
      "INFO:advent_of_code_utils.py:2 items loaded from \"day_17.txt\"\n",
      "INFO:day 17:halt\n"
     ]
    }
   ],
   "source": [
    "# great that looks like it works, lets run things for real\n",
    "log.setLevel(logging.INFO)\n",
    "registers, programme = \\\n",
    "    parse_from_file('day_17.txt', parser, unnest_single_items=True)\n",
    "computer = Computer(*registers, programme)\n",
    "output = []\n",
    "while True:\n",
    "    temp = computer.step()\n",
    "    if temp is None:\n",
    "        break\n",
    "    else:\n",
    "        output.extend(temp)"
   ]
  },
  {
   "cell_type": "code",
   "execution_count": 50,
   "metadata": {},
   "outputs": [
    {
     "data": {
      "text/markdown": [
       "The programme output is: 4,6,1,4,2,1,3,1,6"
      ],
      "text/plain": [
       "<IPython.core.display.Markdown object>"
      ]
     },
     "metadata": {},
     "output_type": "display_data"
    }
   ],
   "source": [
    "markdown(f'The programme output is: {','.join((str(v) for v in output))}')"
   ]
  }
 ],
 "metadata": {
  "kernelspec": {
   "display_name": ".venv",
   "language": "python",
   "name": "python3"
  },
  "language_info": {
   "codemirror_mode": {
    "name": "ipython",
    "version": 3
   },
   "file_extension": ".py",
   "mimetype": "text/x-python",
   "name": "python",
   "nbconvert_exporter": "python",
   "pygments_lexer": "ipython3",
   "version": "3.12.0"
  }
 },
 "nbformat": 4,
 "nbformat_minor": 2
}

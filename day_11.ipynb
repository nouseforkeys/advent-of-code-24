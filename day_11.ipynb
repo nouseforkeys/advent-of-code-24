{
 "cells": [
  {
   "cell_type": "markdown",
   "metadata": {},
   "source": [
    "# Day 11\n",
    "\n",
    "## part 1\n",
    "\n",
    "- stones in a line w/ numbers\n",
    "- they change with these rules\n",
    "    - 0 -> 1\n",
    "    - even # digits -> splits into 2 stones:\n",
    "        - Left half on left stone\n",
    "        - Right half on right stone\n",
    "        - Leading zeros are removed\n",
    "    - otherwise replace with new stone which has 2024 times the value\n",
    "- ordering is preserved\n",
    "- how many stones are there after 25 blinks?\n"
   ]
  },
  {
   "cell_type": "code",
   "execution_count": 5,
   "metadata": {},
   "outputs": [],
   "source": [
    "import logging\n",
    "\n",
    "from tqdm import tqdm\n",
    "\n",
    "from advent_of_code_utils.advent_of_code_utils import (\n",
    "    parse_from_file, ParseConfig as PC, markdown\n",
    ")\n",
    "\n",
    "log = logging.getLogger('day 11')\n",
    "logging.basicConfig(level=logging.INFO)"
   ]
  },
  {
   "cell_type": "code",
   "execution_count": 4,
   "metadata": {},
   "outputs": [
    {
     "name": "stderr",
     "output_type": "stream",
     "text": [
      "DEBUG:day 11:new length: 3\n",
      "DEBUG:day 11:new length: 4\n",
      "DEBUG:day 11:new length: 5\n",
      "DEBUG:day 11:new length: 9\n",
      "DEBUG:day 11:new length: 13\n",
      "DEBUG:day 11:new length: 22\n",
      "DEBUG:day 11:new length: 31\n",
      "DEBUG:day 11:new length: 42\n",
      "DEBUG:day 11:new length: 68\n",
      "DEBUG:day 11:new length: 109\n",
      "DEBUG:day 11:new length: 170\n",
      "DEBUG:day 11:new length: 235\n",
      "DEBUG:day 11:new length: 342\n",
      "DEBUG:day 11:new length: 557\n",
      "DEBUG:day 11:new length: 853\n",
      "DEBUG:day 11:new length: 1298\n",
      "DEBUG:day 11:new length: 1951\n",
      "DEBUG:day 11:new length: 2869\n",
      "DEBUG:day 11:new length: 4490\n",
      "DEBUG:day 11:new length: 6837\n",
      "DEBUG:day 11:new length: 10362\n",
      "DEBUG:day 11:new length: 15754\n",
      "DEBUG:day 11:new length: 23435\n",
      "DEBUG:day 11:new length: 36359\n",
      "DEBUG:day 11:new length: 55312\n"
     ]
    }
   ],
   "source": [
    "# let's test the example first\n",
    "stones = [125, 17]\n",
    "\n",
    "# I have a feeling I'm going to need to be smarter but let's just try and\n",
    "# brute force it first\n",
    "def blink(stones: list[int]) -> list[int]:\n",
    "    \"\"\"returns the stones after blinking\"\"\"\n",
    "    temp = []\n",
    "    for stone in stones:\n",
    "        # 0 case\n",
    "        if stone == 0:\n",
    "            temp.append(1)\n",
    "            continue\n",
    "        # even digit case\n",
    "        str_stone = str(stone)\n",
    "        if len(str_stone) % 2 == 0:\n",
    "            half = len(str_stone) // 2\n",
    "            left = int(str_stone[:half])\n",
    "            right = int(str_stone[half:])\n",
    "            temp.extend([left, right])\n",
    "        # otherwise\n",
    "        else:\n",
    "            temp.append(stone * 2024)\n",
    "    log.debug(f'new length: {len(temp)}')\n",
    "    return temp\n",
    "\n",
    "log.setLevel(logging.DEBUG)\n",
    "for _ in range(25):\n",
    "    stones = blink(stones)"
   ]
  },
  {
   "cell_type": "code",
   "execution_count": 10,
   "metadata": {},
   "outputs": [
    {
     "name": "stderr",
     "output_type": "stream",
     "text": [
      "INFO:advent_of_code_utils.py:8 items loaded from \"day_11.txt\"\n",
      "100%|██████████| 25/25 [00:00<00:00, 71.80it/s] \n"
     ]
    }
   ],
   "source": [
    "# cool let's see if brute forcing works for the real deal\n",
    "log.setLevel(logging.INFO)\n",
    "parser = PC(' ', int)\n",
    "stones = parse_from_file('day_11.txt', parser)\n",
    "for _ in tqdm(range(25)):\n",
    "    stones = blink(stones)"
   ]
  },
  {
   "cell_type": "code",
   "execution_count": 11,
   "metadata": {},
   "outputs": [
    {
     "data": {
      "text/markdown": [
       "after 25 blinks there are: 197357 stones!"
      ],
      "text/plain": [
       "<IPython.core.display.Markdown object>"
      ]
     },
     "metadata": {},
     "output_type": "display_data"
    }
   ],
   "source": [
    "markdown(f'after 25 blinks there are: {len(stones)} stones!')"
   ]
  }
 ],
 "metadata": {
  "kernelspec": {
   "display_name": ".venv",
   "language": "python",
   "name": "python3"
  },
  "language_info": {
   "codemirror_mode": {
    "name": "ipython",
    "version": 3
   },
   "file_extension": ".py",
   "mimetype": "text/x-python",
   "name": "python",
   "nbconvert_exporter": "python",
   "pygments_lexer": "ipython3",
   "version": "3.12.0"
  }
 },
 "nbformat": 4,
 "nbformat_minor": 2
}

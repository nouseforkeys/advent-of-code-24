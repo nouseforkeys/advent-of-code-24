{
 "cells": [
  {
   "cell_type": "markdown",
   "metadata": {},
   "source": [
    "# Day 11\n",
    "\n",
    "## part 1\n",
    "\n",
    "- stones in a line w/ numbers\n",
    "- they change with these rules\n",
    "    - 0 -> 1\n",
    "    - even # digits -> splits into 2 stones:\n",
    "        - Left half on left stone\n",
    "        - Right half on right stone\n",
    "        - Leading zeros are removed\n",
    "    - otherwise replace with new stone which has 2024 times the value\n",
    "- ordering is preserved\n",
    "- how many stones are there after 25 blinks?\n"
   ]
  },
  {
   "cell_type": "code",
   "execution_count": 24,
   "metadata": {},
   "outputs": [],
   "source": [
    "import logging\n",
    "\n",
    "from tqdm import tqdm\n",
    "\n",
    "from advent_of_code_utils.advent_of_code_utils import (\n",
    "    parse_from_file, ParseConfig as PC, markdown\n",
    ")\n",
    "\n",
    "log = logging.getLogger('day 11')\n",
    "logging.basicConfig(level=logging.INFO)"
   ]
  },
  {
   "cell_type": "code",
   "execution_count": 4,
   "metadata": {},
   "outputs": [
    {
     "name": "stderr",
     "output_type": "stream",
     "text": [
      "DEBUG:day 11:new length: 3\n",
      "DEBUG:day 11:new length: 4\n",
      "DEBUG:day 11:new length: 5\n",
      "DEBUG:day 11:new length: 9\n",
      "DEBUG:day 11:new length: 13\n",
      "DEBUG:day 11:new length: 22\n",
      "DEBUG:day 11:new length: 31\n",
      "DEBUG:day 11:new length: 42\n",
      "DEBUG:day 11:new length: 68\n",
      "DEBUG:day 11:new length: 109\n",
      "DEBUG:day 11:new length: 170\n",
      "DEBUG:day 11:new length: 235\n",
      "DEBUG:day 11:new length: 342\n",
      "DEBUG:day 11:new length: 557\n",
      "DEBUG:day 11:new length: 853\n",
      "DEBUG:day 11:new length: 1298\n",
      "DEBUG:day 11:new length: 1951\n",
      "DEBUG:day 11:new length: 2869\n",
      "DEBUG:day 11:new length: 4490\n",
      "DEBUG:day 11:new length: 6837\n",
      "DEBUG:day 11:new length: 10362\n",
      "DEBUG:day 11:new length: 15754\n",
      "DEBUG:day 11:new length: 23435\n",
      "DEBUG:day 11:new length: 36359\n",
      "DEBUG:day 11:new length: 55312\n"
     ]
    }
   ],
   "source": [
    "# let's test the example first\n",
    "stones = [125, 17]\n",
    "\n",
    "# I have a feeling I'm going to need to be smarter but let's just try and\n",
    "# brute force it first\n",
    "def blink(stones: list[int]) -> list[int]:\n",
    "    \"\"\"returns the stones after blinking\"\"\"\n",
    "    temp = []\n",
    "    for stone in stones:\n",
    "        # 0 case\n",
    "        if stone == 0:\n",
    "            temp.append(1)\n",
    "            continue\n",
    "        # even digit case\n",
    "        str_stone = str(stone)\n",
    "        if len(str_stone) % 2 == 0:\n",
    "            half = len(str_stone) // 2\n",
    "            left = int(str_stone[:half])\n",
    "            right = int(str_stone[half:])\n",
    "            temp.extend([left, right])\n",
    "        # otherwise\n",
    "        else:\n",
    "            temp.append(stone * 2024)\n",
    "    log.debug(f'new length: {len(temp)}')\n",
    "    return temp\n",
    "\n",
    "log.setLevel(logging.DEBUG)\n",
    "for _ in range(25):\n",
    "    stones = blink(stones)"
   ]
  },
  {
   "cell_type": "code",
   "execution_count": 10,
   "metadata": {},
   "outputs": [
    {
     "name": "stderr",
     "output_type": "stream",
     "text": [
      "INFO:advent_of_code_utils.py:8 items loaded from \"day_11.txt\"\n",
      "100%|██████████| 25/25 [00:00<00:00, 71.80it/s] \n"
     ]
    }
   ],
   "source": [
    "# cool let's see if brute forcing works for the real deal\n",
    "log.setLevel(logging.INFO)\n",
    "parser = PC(' ', int)\n",
    "stones = parse_from_file('day_11.txt', parser)\n",
    "for _ in tqdm(range(25)):\n",
    "    stones = blink(stones)"
   ]
  },
  {
   "cell_type": "code",
   "execution_count": 11,
   "metadata": {},
   "outputs": [
    {
     "data": {
      "text/markdown": [
       "after 25 blinks there are: 197357 stones!"
      ],
      "text/plain": [
       "<IPython.core.display.Markdown object>"
      ]
     },
     "metadata": {},
     "output_type": "display_data"
    }
   ],
   "source": [
    "markdown(f'after 25 blinks there are: {len(stones)} stones!')"
   ]
  },
  {
   "cell_type": "markdown",
   "metadata": {},
   "source": [
    "## part 2\n",
    "\n",
    "- here we go: 75 blinks let's gooooo"
   ]
  },
  {
   "cell_type": "code",
   "execution_count": 12,
   "metadata": {},
   "outputs": [
    {
     "name": "stderr",
     "output_type": "stream",
     "text": [
      "INFO:advent_of_code_utils.py:8 items loaded from \"day_11.txt\"\n",
      " 52%|█████▏    | 39/75 [01:49<01:41,  2.81s/it] \n"
     ]
    },
    {
     "ename": "KeyboardInterrupt",
     "evalue": "",
     "output_type": "error",
     "traceback": [
      "\u001b[1;31m---------------------------------------------------------------------------\u001b[0m",
      "\u001b[1;31mKeyboardInterrupt\u001b[0m                         Traceback (most recent call last)",
      "Cell \u001b[1;32mIn[12], line 3\u001b[0m\n\u001b[0;32m      1\u001b[0m stones \u001b[38;5;241m=\u001b[39m parse_from_file(\u001b[38;5;124m'\u001b[39m\u001b[38;5;124mday_11.txt\u001b[39m\u001b[38;5;124m'\u001b[39m, parser)\n\u001b[0;32m      2\u001b[0m \u001b[38;5;28;01mfor\u001b[39;00m _ \u001b[38;5;129;01min\u001b[39;00m tqdm(\u001b[38;5;28mrange\u001b[39m(\u001b[38;5;241m75\u001b[39m)):\n\u001b[1;32m----> 3\u001b[0m     stones \u001b[38;5;241m=\u001b[39m \u001b[43mblink\u001b[49m\u001b[43m(\u001b[49m\u001b[43mstones\u001b[49m\u001b[43m)\u001b[49m\n",
      "Cell \u001b[1;32mIn[4], line 15\u001b[0m, in \u001b[0;36mblink\u001b[1;34m(stones)\u001b[0m\n\u001b[0;32m     13\u001b[0m     \u001b[38;5;28;01mcontinue\u001b[39;00m\n\u001b[0;32m     14\u001b[0m \u001b[38;5;66;03m# even digit case\u001b[39;00m\n\u001b[1;32m---> 15\u001b[0m str_stone \u001b[38;5;241m=\u001b[39m \u001b[38;5;28;43mstr\u001b[39;49m\u001b[43m(\u001b[49m\u001b[43mstone\u001b[49m\u001b[43m)\u001b[49m\n\u001b[0;32m     16\u001b[0m \u001b[38;5;28;01mif\u001b[39;00m \u001b[38;5;28mlen\u001b[39m(str_stone) \u001b[38;5;241m%\u001b[39m \u001b[38;5;241m2\u001b[39m \u001b[38;5;241m==\u001b[39m \u001b[38;5;241m0\u001b[39m:\n\u001b[0;32m     17\u001b[0m     half \u001b[38;5;241m=\u001b[39m \u001b[38;5;28mlen\u001b[39m(str_stone) \u001b[38;5;241m/\u001b[39m\u001b[38;5;241m/\u001b[39m \u001b[38;5;241m2\u001b[39m\n",
      "\u001b[1;31mKeyboardInterrupt\u001b[0m: "
     ]
    }
   ],
   "source": [
    "stones = parse_from_file('day_11.txt', parser)\n",
    "for _ in tqdm(range(75)):\n",
    "    stones = blink(stones)"
   ]
  },
  {
   "cell_type": "markdown",
   "metadata": {},
   "source": [
    "- as I suspected! I may actually have to put in some thought *:P\n",
    "- first thing to consider is the creation of 0s - stones don't interact with eachother so it's easy to determine what the future blinks will do to each one. And 0s are going to come up alot.\n",
    "- wait let's check that."
   ]
  },
  {
   "cell_type": "code",
   "execution_count": 13,
   "metadata": {},
   "outputs": [
    {
     "name": "stderr",
     "output_type": "stream",
     "text": [
      "INFO:day 11:stones.count(0)=3512537\n"
     ]
    }
   ],
   "source": [
    "\n",
    "log.info(f'{stones.count(0)=}')"
   ]
  },
  {
   "cell_type": "markdown",
   "metadata": {},
   "source": [
    "yup that's a lot of completely predictable stones that are wasting our time"
   ]
  },
  {
   "cell_type": "code",
   "execution_count": 21,
   "metadata": {},
   "outputs": [
    {
     "name": "stderr",
     "output_type": "stream",
     "text": [
      "INFO:day 11:count=1 stones=[1]\n",
      "INFO:day 11:count=2 stones=[2024]\n",
      "INFO:day 11:count=3 stones=[20, 24]\n",
      "INFO:day 11:count=4 stones=[2, 0, 2, 4]\n"
     ]
    }
   ],
   "source": [
    "# let's see what happens to a 0\n",
    "stones = [0]\n",
    "for count in range(1, 5):\n",
    "    stones = blink(stones)\n",
    "    log.info(f'{count=} {stones=}')"
   ]
  },
  {
   "cell_type": "markdown",
   "metadata": {},
   "source": [
    "so each 0 becomes 4 stones after 4 iterations and produces:\n",
    "- 2x 2\n",
    "- 1x 4\n",
    "- and another 0\n",
    "\n",
    "Let's just count the instances of each value rather than store each individual value to help reduce the amount of info we need to store"
   ]
  },
  {
   "cell_type": "code",
   "execution_count": null,
   "metadata": {},
   "outputs": [
    {
     "name": "stderr",
     "output_type": "stream",
     "text": [
      "INFO:day 11:memoised: 76 stones\n",
      "INFO:day 11:after 25 blinks that created 55312\n"
     ]
    }
   ],
   "source": [
    "memo = {}  # gonna try and memoise as well for extra speeeed\n",
    "\n",
    "def smart_blink(totals: dict[int: int]) -> dict[int: int]:\n",
    "    \"\"\"\n",
    "    enacts blink but only keeps track of totals since ordering doesn't matter\n",
    "    \"\"\"\n",
    "    temp = {}\n",
    "    for value, quantity in totals.items():\n",
    "        # figure out what to add\n",
    "        if value in memo:\n",
    "            additions = memo[value]\n",
    "        else:\n",
    "            additions = blink([value])\n",
    "            memo.update({value: additions})\n",
    "        \n",
    "        # update totals\n",
    "        for value in additions:\n",
    "            if value not in temp:\n",
    "                temp.update({value: quantity})\n",
    "            else:\n",
    "                temp[value] += quantity\n",
    "    log.debug(f'new total: {sum(temp.values())}')\n",
    "    return temp\n",
    "\n",
    "# let's check it works by redoing the example for 25 runs\n",
    "log.setLevel(logging.INFO)\n",
    "stones = [125, 17]\n",
    "totals = {value: 1 for value in stones}\n",
    "log.debug(f'{totals=}, {stones=}')\n",
    "for _ in range(25):\n",
    "    totals = smart_blink(totals)\n",
    "    stones = blink(stones)  # just for debug logs to compare\n",
    "    log.debug(f'{totals=}, {stones=}')\n",
    "\n",
    "log.info(f'memoised: {len(memo)} stones')\n",
    "log.info(f'after 25 blinks that created {sum(totals.values())}')"
   ]
  },
  {
   "cell_type": "code",
   "execution_count": 32,
   "metadata": {},
   "outputs": [
    {
     "name": "stderr",
     "output_type": "stream",
     "text": [
      "INFO:advent_of_code_utils.py:8 items loaded from \"day_11.txt\"\n",
      "100%|██████████| 75/75 [00:00<00:00, 380.79it/s]\n",
      "INFO:day 11:memoised: 3908 stones\n"
     ]
    },
    {
     "data": {
      "text/markdown": [
       "after 75 blinks that created 234568186890978"
      ],
      "text/plain": [
       "<IPython.core.display.Markdown object>"
      ]
     },
     "metadata": {},
     "output_type": "display_data"
    }
   ],
   "source": [
    "# cool that seems to work let's solve!\n",
    "log.setLevel(logging.INFO)\n",
    "stones = parse_from_file('day_11.txt', parser)\n",
    "totals = {value: 1 for value in stones}\n",
    "for _ in tqdm(range(75)):\n",
    "    totals = smart_blink(totals)\n",
    "log.info(f'memoised: {len(memo)} stones')\n",
    "markdown(f'after 75 blinks that created {sum(totals.values())}')"
   ]
  }
 ],
 "metadata": {
  "kernelspec": {
   "display_name": ".venv",
   "language": "python",
   "name": "python3"
  },
  "language_info": {
   "codemirror_mode": {
    "name": "ipython",
    "version": 3
   },
   "file_extension": ".py",
   "mimetype": "text/x-python",
   "name": "python",
   "nbconvert_exporter": "python",
   "pygments_lexer": "ipython3",
   "version": "3.12.0"
  }
 },
 "nbformat": 4,
 "nbformat_minor": 2
}

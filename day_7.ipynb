{
 "cells": [
  {
   "cell_type": "markdown",
   "metadata": {},
   "source": [
    "# Day 7\n",
    "\n",
    "## part 1\n",
    "\n",
    "- Elephants stole the operators! (lol, wat?!)\n",
    "- `+` and `*` can  e inserted\n",
    "- operations are evaluated left-to-right\n",
    "- find the sum of the test values from the equations that are possible to solve."
   ]
  },
  {
   "cell_type": "code",
   "execution_count": 34,
   "metadata": {},
   "outputs": [],
   "source": [
    "from dataclasses import dataclass\n",
    "import logging\n",
    "\n",
    "from tqdm import  tqdm\n",
    "\n",
    "from advent_of_code_utils.advent_of_code_utils import (\n",
    "    parse_from_file, ParseConfig as PC, markdown\n",
    ")\n",
    "\n",
    "log = logging.getLogger('day 7')\n",
    "logging.basicConfig(level=logging.INFO)"
   ]
  },
  {
   "cell_type": "code",
   "execution_count": 23,
   "metadata": {},
   "outputs": [
    {
     "name": "stderr",
     "output_type": "stream",
     "text": [
      "INFO:advent_of_code_utils.py:9 items loaded from \"day_7_example.txt\"\n"
     ]
    }
   ],
   "source": [
    "parser = PC('\\n', PC(': ', [int, PC(' ', int)]))\n",
    "\n",
    "example = parse_from_file('day_7_example.txt', parser)\n",
    "\n",
    "@dataclass\n",
    "class Equation:\n",
    "    total: int\n",
    "    operands: list[int]\n",
    "    operators: list[str] = None\n",
    "\n",
    "    @property\n",
    "    def combinations(self) -> list[list[str]]:\n",
    "        \"\"\"\n",
    "        returns an iterable of all combinations of + and * operators for the\n",
    "        equation\n",
    "        \"\"\"\n",
    "        ops = ['+', '*']\n",
    "        slots = len(self.operands) - 1\n",
    "        log.debug(f'genearting combinations for {slots=}')\n",
    "        combs = []\n",
    "        for value in range(pow(2, slots)):\n",
    "            temp = []\n",
    "            for char in f'{value:0{slots}b}':\n",
    "                temp.append(ops[int(char)])\n",
    "            combs.append(temp)\n",
    "        log.debug(f'{len(combs)} operator combinations generated')\n",
    "        return combs\n",
    "    \n",
    "    def solve(self, operators: list[str]) -> int:\n",
    "        \"\"\"returns the result from applying the operands\"\"\"\n",
    "        log.debug(f'solving with {operators=}')\n",
    "        total = self.operands[0]\n",
    "        log.debug(f'{total=}')\n",
    "        ops = [op for op in operators]\n",
    "        for value in self.operands[1:]:\n",
    "            op = ops.pop(0)\n",
    "            match(op):\n",
    "                case '+':\n",
    "                    total += value\n",
    "                case '*':\n",
    "                    total *= value\n",
    "                case _:\n",
    "                    ValueError(f'Operator not recognised: {op}')\n",
    "            log.debug(f'{op}= {value} -> {total=}')\n",
    "        return total\n",
    "    \n",
    "    def find_ops(self) -> None:\n",
    "        \"\"\"tests operands to try and solve the equation\"\"\"\n",
    "        log.debug(f'attempting to solve: {self}')\n",
    "        for combination in self.combinations:\n",
    "            log.debug(f'testing {combination=}')\n",
    "            if self.solve(combination) == self.total:\n",
    "                self.operators = combination\n",
    "                log.debug('solution found!')\n",
    "                break\n",
    "        else:\n",
    "            log.debug('no solution found!')\n",
    "\n",
    "\n",
    "example_eqs = [Equation(t, o) for t, o in example]"
   ]
  },
  {
   "cell_type": "code",
   "execution_count": 24,
   "metadata": {},
   "outputs": [
    {
     "name": "stderr",
     "output_type": "stream",
     "text": [
      "DEBUG:day 7:attempting to solve: Equation(total=3267, operands=[81, 40, 27], operators=None)\n",
      "DEBUG:day 7:genearting combinations for slots=2\n",
      "DEBUG:day 7:4 operator combinations generated\n",
      "DEBUG:day 7:testing combination=['+', '+']\n",
      "DEBUG:day 7:solving with operators=['+', '+']\n",
      "DEBUG:day 7:total=81\n",
      "DEBUG:day 7:+= 40 -> total=121\n",
      "DEBUG:day 7:+= 27 -> total=148\n",
      "DEBUG:day 7:testing combination=['+', '*']\n",
      "DEBUG:day 7:solving with operators=['+', '*']\n",
      "DEBUG:day 7:total=81\n",
      "DEBUG:day 7:+= 40 -> total=121\n",
      "DEBUG:day 7:*= 27 -> total=3267\n",
      "DEBUG:day 7:solution found!\n",
      "INFO:day 7:updated equation: Equation(total=3267, operands=[81, 40, 27], operators=['+', '*'])\n",
      "DEBUG:day 7:attempting to solve: Equation(total=83, operands=[17, 5], operators=None)\n",
      "DEBUG:day 7:genearting combinations for slots=1\n",
      "DEBUG:day 7:2 operator combinations generated\n",
      "DEBUG:day 7:testing combination=['+']\n",
      "DEBUG:day 7:solving with operators=['+']\n",
      "DEBUG:day 7:total=17\n",
      "DEBUG:day 7:+= 5 -> total=22\n",
      "DEBUG:day 7:testing combination=['*']\n",
      "DEBUG:day 7:solving with operators=['*']\n",
      "DEBUG:day 7:total=17\n",
      "DEBUG:day 7:*= 5 -> total=85\n",
      "DEBUG:day 7:no solution found!\n",
      "INFO:day 7:updated equation: Equation(total=83, operands=[17, 5], operators=None)\n"
     ]
    }
   ],
   "source": [
    "\n",
    "log.setLevel(logging.DEBUG)\n",
    "for eq in example_eqs[1:3]:\n",
    "    eq.find_ops()\n",
    "    log.info(f'updated equation: {eq}')"
   ]
  },
  {
   "cell_type": "code",
   "execution_count": 31,
   "metadata": {},
   "outputs": [
    {
     "name": "stderr",
     "output_type": "stream",
     "text": [
      "INFO:day 7:the total example calibration is: 3749\n"
     ]
    }
   ],
   "source": [
    "# cool so let's try solving the exmaple\n",
    "log.setLevel(logging.INFO)\n",
    "for eq in example_eqs:\n",
    "    eq.find_ops()\n",
    "example_total_cal = sum(\n",
    "    (eq.total for eq in example_eqs if eq.operators is not None))\n",
    "log.info(f'the total example calibration is: {example_total_cal}')"
   ]
  },
  {
   "cell_type": "code",
   "execution_count": 35,
   "metadata": {},
   "outputs": [
    {
     "name": "stderr",
     "output_type": "stream",
     "text": [
      "INFO:advent_of_code_utils.py:850 items loaded from \"day_7.txt\"\n",
      "INFO:day 7:loaded 850 equations\n",
      "finding operators: 100%|██████████| 850/850 [00:04<00:00, 180.26it/s]\n",
      "INFO:day 7:finding total calibration value\n"
     ]
    },
    {
     "data": {
      "text/markdown": [
       "the total calibration result is: 5702958180383"
      ],
      "text/plain": [
       "<IPython.core.display.Markdown object>"
      ]
     },
     "metadata": {},
     "output_type": "display_data"
    }
   ],
   "source": [
    "# ok nice that works so let's solve for real!\n",
    "puzzle_input = parse_from_file('day_7.txt', parser)\n",
    "equations = [Equation(t, o) for t, o in puzzle_input]\n",
    "log.info(f'loaded {len(equations)} equations')\n",
    "for eq in tqdm(equations, desc='finding operators'):\n",
    "    eq.find_ops()\n",
    "log.info('finding total calibration value')\n",
    "total_cal = sum(\n",
    "    (eq.total for eq in equations if eq.operators is not None))\n",
    "markdown(f'the total calibration result is: {total_cal}')"
   ]
  }
 ],
 "metadata": {
  "kernelspec": {
   "display_name": ".venv",
   "language": "python",
   "name": "python3"
  },
  "language_info": {
   "codemirror_mode": {
    "name": "ipython",
    "version": 3
   },
   "file_extension": ".py",
   "mimetype": "text/x-python",
   "name": "python",
   "nbconvert_exporter": "python",
   "pygments_lexer": "ipython3",
   "version": "3.12.0"
  }
 },
 "nbformat": 4,
 "nbformat_minor": 2
}

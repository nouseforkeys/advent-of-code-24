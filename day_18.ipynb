{
 "cells": [
  {
   "cell_type": "markdown",
   "metadata": {},
   "source": [
    "# Day 18\n",
    "\n",
    "## part 1\n",
    "\n",
    "- memory space is 0-70 horizontally and vertically\n",
    "- coordinates are given in (X, Y) form\n",
    "- start at (0, 0) and reach (70, 70)\n",
    "- once a byte has fallen that tile is corrupted\n",
    "- simulate the first 1024 bytes\n",
    "- once that's done find the min steps to reach the exit"
   ]
  },
  {
   "cell_type": "code",
   "execution_count": 19,
   "metadata": {},
   "outputs": [],
   "source": [
    "from dataclasses import dataclass\n",
    "import logging\n",
    "\n",
    "from matplotlib import pyplot as plt\n",
    "from tqdm import  tqdm\n",
    "\n",
    "from advent_of_code_utils.advent_of_code_utils import (\n",
    "    parse_from_file, ParseConfig as PC, markdown, Point2 as P, plot_grid,\n",
    ")\n",
    "\n",
    "log = logging.getLogger('day 18')\n",
    "logging.basicConfig(level=logging.INFO)"
   ]
  },
  {
   "cell_type": "code",
   "execution_count": 9,
   "metadata": {},
   "outputs": [
    {
     "name": "stderr",
     "output_type": "stream",
     "text": [
      "INFO:advent_of_code_utils.py:3450 items loaded from \"day_18.txt\"\n"
     ]
    },
    {
     "data": {
      "image/png": "[encoded data removed]",
      "text/plain": [
       "<Figure size 640x480 with 1 Axes>"
      ]
     },
     "metadata": {},
     "output_type": "display_data"
    }
   ],
   "source": [
    "parser = PC('\\n', PC(',', int))\n",
    "coordinates = parse_from_file('day_18.txt', parser)\n",
    "# lets convert to (l, c) for easy mapping to a grid\n",
    "points = [P(l, c) for c, l in coordinates][:1024]\n",
    "size = P(71, 71)\n",
    "\n",
    "def plot_points(points: list[P], ax: plt.Axes) -> None:\n",
    "    \"\"\"plots the points passed on a 2d grid\"\"\"\n",
    "    grid = [[0]*size.c for _ in range(size.l)]\n",
    "    for point in points:\n",
    "        grid[point.l][point.c] += 1\n",
    "    \n",
    "    plot_grid(grid, ax)\n",
    "\n",
    "fig, ax = plt.subplots()\n",
    "ax.set_title('Fancy a byte?')\n",
    "plot_points(points, ax)"
   ]
  },
  {
   "cell_type": "code",
   "execution_count": 26,
   "metadata": {},
   "outputs": [],
   "source": [
    "# there's definitely a maze afoot!\n",
    "@dataclass\n",
    "class Node:\n",
    "    links: list[P] = None\n",
    "    visited: bool = False\n",
    "    score: int = None\n",
    "    \n",
    "    def __post_init__(self):\n",
    "        if self.links is None:\n",
    "            self.links = []\n",
    "\n",
    "def get_next_node(graph: list[list[Node]]) -> Node | None:\n",
    "    \"\"\"returns the next node or None if no more are possible to get to\"\"\"\n",
    "    min_node = None\n",
    "    for line in (graph):\n",
    "        for node in (line):\n",
    "            # node cant be a wall, visited, or too far away\n",
    "            if len(node.links) == 0:\n",
    "                continue\n",
    "            if node.visited:\n",
    "                continue\n",
    "            if node.score is None:\n",
    "                continue\n",
    "            if min_node is None:\n",
    "                min_node = node\n",
    "            elif node.score <= min_node.score:\n",
    "                min_node = node\n",
    "    return min_node\n",
    "\n",
    "def get_scores(points: list[P], start: P, end: P = None) -> list[list[int]]:\n",
    "    \"\"\"returns a 2D grid of the distance scores\"\"\"\n",
    "    log.info(f'finding distances from {start=}->{end=}')\n",
    "    # create a grid of where nodes are\n",
    "    grid = [[False]*size.c for _ in range(size.l)]\n",
    "    for point in points:\n",
    "        grid[point.l][point.c] = True\n",
    "    log.info('created obstacle grid')\n",
    "\n",
    "    graph = [[Node() for __ in range(size.c)] for _ in range(size.l)]\n",
    "    for l, line in enumerate(graph):\n",
    "        for c, node in enumerate(line):\n",
    "            # skip walls\n",
    "            if grid[l][c]:\n",
    "                continue\n",
    "            point = P(l, c)\n",
    "            # for each adjacen point\n",
    "            for adj in point.adjacent():\n",
    "                # if out of bounds\n",
    "                if not (0 <= adj.l < len(grid) and 0 <= adj.c < len(grid[0])):\n",
    "                    continue\n",
    "                # if is a wall\n",
    "                if grid[adj.l][adj.c]:\n",
    "                    continue\n",
    "                # else must be possible to go there\n",
    "                node.links.append(adj)\n",
    "    log.info('created graph')\n",
    "\n",
    "    graph[start.l][start.c].score = 0\n",
    "    while True:\n",
    "        # find the next node\n",
    "        node = get_next_node(graph)\n",
    "        # break if no node was found\n",
    "        if node is None:\n",
    "            log.info('visited all possible nodes without getting to end')\n",
    "            break\n",
    "        # update neighbours\n",
    "        for point in node.links:\n",
    "            link = graph[point.l][point.c]\n",
    "            if link.visited:\n",
    "                continue\n",
    "            if link.score is None:\n",
    "                link.score = node.score + 1\n",
    "            elif link.score > node.score + 1:\n",
    "                link.score = node.score + 1\n",
    "            else:\n",
    "                pass  # link is equidistant or closer than from here\n",
    "        node.visited = True\n",
    "    \n",
    "        # if we made it to the end nows the time to check out\n",
    "        if end is not None:\n",
    "            if end in node.links:\n",
    "                log.info('found the end!')\n",
    "                break\n",
    "    return graph\n",
    "\n",
    "\n",
    "scores = get_scores(points, P(0, 0))"
   ]
  },
  {
   "cell_type": "code",
   "execution_count": 16,
   "metadata": {},
   "outputs": [
    {
     "data": {
      "image/png": "[encoded data removed]",
      "text/plain": [
       "<Figure size 640x480 with 1 Axes>"
      ]
     },
     "metadata": {},
     "output_type": "display_data"
    }
   ],
   "source": [
    "def plot_scores(scores: list[list[Node]], ax: plt.Axes) -> None:\n",
    "    \"\"\"plots the score values on a grid\"\"\"\n",
    "    temp = []\n",
    "    for line in scores:\n",
    "        temp.append([])\n",
    "        for node in line:\n",
    "            # if it's a wall\n",
    "            if len(node.links) == 0:\n",
    "                temp[-1].append(-100)\n",
    "            elif node.score is None:\n",
    "                temp[-1].append(-50)\n",
    "            else:\n",
    "                temp[-1].append(node.score)\n",
    "    plot_grid(temp, ax)\n",
    "\n",
    "fig, ax = plt.subplots()\n",
    "ax.set_title(\n",
    "    'If we\\'re escaping memory does that mean we\\'re being forgotten?')\n",
    "plot_scores(scores, ax)"
   ]
  },
  {
   "cell_type": "code",
   "execution_count": 17,
   "metadata": {},
   "outputs": [
    {
     "data": {
      "text/markdown": [
       "the distance to the end is 282"
      ],
      "text/plain": [
       "<IPython.core.display.Markdown object>"
      ]
     },
     "metadata": {},
     "output_type": "display_data"
    }
   ],
   "source": [
    "end_distance = scores[size.l-1][size.c-1].score\n",
    "markdown(f'the distance to the end is {end_distance}')"
   ]
  },
  {
   "cell_type": "markdown",
   "metadata": {},
   "source": [
    "## part 2\n",
    "\n",
    "- continue adding bytes after 1024th to see which one will cause the grid to be impassable\n",
    "- submit the coordinates of the point as `x,y` for the solution"
   ]
  },
  {
   "cell_type": "code",
   "execution_count": 36,
   "metadata": {},
   "outputs": [
    {
     "name": "stderr",
     "output_type": "stream",
     "text": [
      "testing final index:  17%|█▋        | 415/2426 [00:34<02:46, 12.05it/s]\n",
      "WARNING:day 18:points[index]=(29, 64) (index=3034)\n"
     ]
    },
    {
     "data": {
      "image/png": "[encoded data removed]",
      "text/plain": [
       "<Figure size 640x480 with 1 Axes>"
      ]
     },
     "metadata": {},
     "output_type": "display_data"
    }
   ],
   "source": [
    "# since the algorithm will finish up much quicker when the path is blocked\n",
    "# let's test out each set of points in reverse\n",
    "points = [P(l, c) for c, l in coordinates]\n",
    "def find_blocker(points: list[P], start: P, end: P) -> P:\n",
    "    \"\"\"returns the point that blocks the grid\"\"\"\n",
    "    indecies = list(reversed(range(1024, len(points))))\n",
    "    for index in tqdm(indecies, desc='testing final index'):\n",
    "        scores = get_scores(points[:index], start, end)\n",
    "        if scores[end.l][end.c].score is not None:\n",
    "            break\n",
    "    fig, ax = plt.subplots()\n",
    "    ax.set_title('This is your last chance!')\n",
    "    plot_scores(scores, ax)\n",
    "    log.warning(f'{points[index]=} ({index=})')\n",
    "    return points[index]\n",
    "\n",
    "log.setLevel(logging.WARNING)\n",
    "blocker = find_blocker(points, P(0, 0), P(70, 70))"
   ]
  },
  {
   "cell_type": "code",
   "execution_count": 35,
   "metadata": {},
   "outputs": [
    {
     "data": {
      "text/markdown": [
       "point that seals the deal is: 64,29"
      ],
      "text/plain": [
       "<IPython.core.display.Markdown object>"
      ]
     },
     "metadata": {},
     "output_type": "display_data"
    }
   ],
   "source": [
    "markdown(f'point that seals the deal is: {blocker.c},{blocker.l}')"
   ]
  }
 ],
 "metadata": {
  "kernelspec": {
   "display_name": ".venv",
   "language": "python",
   "name": "python3"
  },
  "language_info": {
   "codemirror_mode": {
    "name": "ipython",
    "version": 3
   },
   "file_extension": ".py",
   "mimetype": "text/x-python",
   "name": "python",
   "nbconvert_exporter": "python",
   "pygments_lexer": "ipython3",
   "version": "3.12.0"
  }
 },
 "nbformat": 4,
 "nbformat_minor": 2
}
